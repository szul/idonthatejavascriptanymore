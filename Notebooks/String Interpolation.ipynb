{
 "cells": [
  {
   "cell_type": "markdown",
   "metadata": {},
   "source": [
    "# You Don't Have to Hate Your Life Anymore When Concatenating Strings"
   ]
  },
  {
   "cell_type": "markdown",
   "metadata": {},
   "source": [
    "Dealing with strings in any language can be a beast when mixing text content with variables. Most languages provide a form of concatenation. In many, it is less than ideal.\n",
    "\n",
    "> Note: I'll be using `var` here because I want to be able to reclare these variables within the same scope."
   ]
  },
  {
   "cell_type": "markdown",
   "metadata": {},
   "source": [
    "## ES5"
   ]
  },
  {
   "cell_type": "code",
   "execution_count": 15,
   "metadata": {},
   "outputs": [
    {
     "name": "stdout",
     "output_type": "stream",
     "text": [
      "If I want to concat a string, I have to use pluses\n"
     ]
    }
   ],
   "source": [
    "var result = \"If I want to concat a string,\" + \" I have to use pluses\";\n",
    "console.log(result);"
   ]
  },
  {
   "cell_type": "code",
   "execution_count": 16,
   "metadata": {},
   "outputs": [
    {
     "name": "stdout",
     "output_type": "stream",
     "text": [
      "If I want multiple strings, I have to do that on separate lines with pluses as well.\n"
     ]
    }
   ],
   "source": [
    "var result = \"If I want multiple strings,\"\n",
    "+ \" I have to do that on separate lines with pluses\"\n",
    "+ \" as well.\";\n",
    "console.log(result);"
   ]
  },
  {
   "cell_type": "code",
   "execution_count": 17,
   "metadata": {},
   "outputs": [
    {
     "name": "stdout",
     "output_type": "stream",
     "text": [
      "And if I need to escaped characters like \"'\", I need to use backslashes.\n"
     ]
    }
   ],
   "source": [
    "var result = \"And if I need to escaped characters like \\\"\\'\\\", I need to use backslashes.\";\n",
    "console.log(result);"
   ]
  },
  {
   "cell_type": "markdown",
   "metadata": {},
   "source": [
    "### But the worst offender might be HTML inside of JavaScript strings.\n",
    "\n",
    "This forces you to decide between single quotes and double quotes, and really think ahead. It could also mess up you coding conventions and linting rules."
   ]
  },
  {
   "cell_type": "code",
   "execution_count": 18,
   "metadata": {},
   "outputs": [
    {
     "name": "stdout",
     "output_type": "stream",
     "text": [
      "span[class=\"my-class\"]\n"
     ]
    }
   ],
   "source": [
    "var document = {\n",
    "    querySelector: function(selector) {\n",
    "        console.log(selector);\n",
    "    }\n",
    "}\n",
    "\n",
    "var doubleQuotes = \"<span class=\\\"my-class\\\"></span>\"; //Oh noes! Backslashes!\n",
    "var singleQuotes = '<span class=\"my-class\"></span>'; //UGH... Changing to single quotes.\n",
    "\n",
    "//My linter wants single quotes, so now I'm using double quotes in my attribute selector.\n",
    "var selector = document.querySelector('span[class=\"my-class\"]');"
   ]
  },
  {
   "cell_type": "markdown",
   "metadata": {},
   "source": [
    "### Now let's add variables"
   ]
  },
  {
   "cell_type": "code",
   "execution_count": 19,
   "metadata": {},
   "outputs": [
    {
     "name": "stdout",
     "output_type": "stream",
     "text": [
      "My name is Michael and my age is 40.\n"
     ]
    }
   ],
   "source": [
    "var name = \"Michael\";\n",
    "var age = 40;\n",
    "\n",
    "var result = \"My name is \" + name + \" and my age is \" + age + \".\";\n",
    "console.log(result);"
   ]
  },
  {
   "cell_type": "markdown",
   "metadata": {},
   "source": [
    "## ES6\n",
    "\n",
    "String interpolation!\n",
    "\n",
    "Now we can use ticks instead of single and double quotes, and by doing so, we can include our variables inside of our strings without concatenating them."
   ]
  },
  {
   "cell_type": "code",
   "execution_count": 21,
   "metadata": {},
   "outputs": [
    {
     "name": "stdout",
     "output_type": "stream",
     "text": [
      "My name is Michael and my age is 40.\n"
     ]
    }
   ],
   "source": [
    "var name = \"Michael\";\n",
    "var age = 40;\n",
    "\n",
    "var result = `My name is ${name} and my age is ${age}.`;\n",
    "console.log(result);"
   ]
  },
  {
   "cell_type": "markdown",
   "metadata": {},
   "source": [
    "Notice how cleaner this code is. We wrap the variables in `${}`, and place them inside of the string. The string is quoted with ticks, and we avoid messy concatenations and escape characters.\n",
    "\n",
    "Also, with most code editors, the syntax highlighting will cleary show the variables vs. string content."
   ]
  },
  {
   "cell_type": "code",
   "execution_count": null,
   "metadata": {},
   "outputs": [],
   "source": []
  }
 ],
 "metadata": {
  "kernelspec": {
   "display_name": "Javascript (Node.js)",
   "language": "javascript",
   "name": "javascript"
  },
  "language_info": {
   "file_extension": ".js",
   "mimetype": "application/javascript",
   "name": "javascript",
   "version": "10.6.0"
  }
 },
 "nbformat": 4,
 "nbformat_minor": 2
}
