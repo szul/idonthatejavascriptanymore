{
 "cells": [
  {
   "cell_type": "markdown",
   "metadata": {},
   "source": [
    "# Classes and Inheritance\n",
    "\n",
    "Classes were _almost_ a real thing in JavaScript in the past, but they existed as this weird variable instance representing a function, which a specific structural component.\n",
    "\n",
    "## ES5\n",
    "\n",
    "For example, to create a \"class\" in older JavaScript, you would need to assign a function to a variable, and rely on `this` and `prototype` to assemble your class structure."
   ]
  },
  {
   "cell_type": "code",
   "execution_count": 1,
   "metadata": {},
   "outputs": [
    {
     "name": "stdout",
     "output_type": "stream",
     "text": [
      "Cartoon { title: 'Masters of the Universe' }\n"
     ]
    }
   ],
   "source": [
    "var Cartoon = function(title) {\n",
    "    this.title = title;\n",
    "};\n",
    "\n",
    "console.log(new Cartoon(\"Masters of the Universe\"));"
   ]
  },
  {
   "cell_type": "code",
   "execution_count": 3,
   "metadata": {},
   "outputs": [
    {
     "name": "stdout",
     "output_type": "stream",
     "text": [
      "Cartoon { title: 'Masters of the Universe', hero: 'He-Man' }\n"
     ]
    }
   ],
   "source": [
    "Cartoon.prototype.protagonist = function(name) {\n",
    "    this.hero = name;\n",
    "};\n",
    "\n",
    "var c = new Cartoon(\"Masters of the Universe\");\n",
    "c.protagonist(\"He-Man\");\n",
    "\n",
    "console.log(c);"
   ]
  },
  {
   "cell_type": "markdown",
   "metadata": {},
   "source": [
    "## Modern JavaScript\n",
    "\n",
    "With modern JavaScript, we now have a native `class` syntax for constructing class objects."
   ]
  },
  {
   "cell_type": "code",
   "execution_count": 5,
   "metadata": {},
   "outputs": [
    {
     "name": "stdout",
     "output_type": "stream",
     "text": [
      "Animation { title: 'Masters of the Universe', name: 'He-Man' }\n"
     ]
    }
   ],
   "source": [
    "class Animation {\n",
    "    constructor(title) {\n",
    "        this.title = title;\n",
    "    }\n",
    "    protagonist(name) {\n",
    "        this.name = name;\n",
    "    }\n",
    "}\n",
    "\n",
    "var a = new Animation(\"Masters of the Universe\");\n",
    "a.protagonist(\"He-Man\");\n",
    "\n",
    "console.log(a);"
   ]
  },
  {
   "cell_type": "markdown",
   "metadata": {},
   "source": [
    "## Inheritance\n",
    "\n",
    "Previously, inheritance was only available through some seriously archaic code-mangling."
   ]
  },
  {
   "cell_type": "code",
   "execution_count": null,
   "metadata": {},
   "outputs": [],
   "source": []
  }
 ],
 "metadata": {
  "kernelspec": {
   "display_name": "Javascript (Node.js)",
   "language": "javascript",
   "name": "javascript"
  },
  "language_info": {
   "file_extension": ".js",
   "mimetype": "application/javascript",
   "name": "javascript",
   "version": "10.6.0"
  }
 },
 "nbformat": 4,
 "nbformat_minor": 2
}
