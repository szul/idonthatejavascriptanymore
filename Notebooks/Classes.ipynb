{
 "cells": [
  {
   "cell_type": "markdown",
   "metadata": {},
   "source": [
    "# Classes and Inheritance\n",
    "\n",
    "Classes were _almost_ a real thing in JavaScript in the past, but they existed as this weird variable instance representing a function, which a specific structural component.\n",
    "\n",
    "## ES5\n",
    "\n",
    "For example, to create a \"class\" in older JavaScript, you would need to assign a function to a variable, and rely on `this` and `prototype` to assemble your class structure."
   ]
  },
  {
   "cell_type": "code",
   "execution_count": 1,
   "metadata": {},
   "outputs": [
    {
     "name": "stdout",
     "output_type": "stream",
     "text": [
      "Cartoon { title: 'Masters of the Universe' }\n"
     ]
    }
   ],
   "source": [
    "var Cartoon = function(title) {\n",
    "    this.title = title;\n",
    "};\n",
    "\n",
    "console.log(new Cartoon(\"Masters of the Universe\"));"
   ]
  },
  {
   "cell_type": "code",
   "execution_count": 2,
   "metadata": {},
   "outputs": [
    {
     "name": "stdout",
     "output_type": "stream",
     "text": [
      "Cartoon { title: 'Masters of the Universe', hero: 'He-Man' }\n"
     ]
    }
   ],
   "source": [
    "Cartoon.prototype.protagonist = function(name) {\n",
    "    this.hero = name;\n",
    "};\n",
    "\n",
    "var c = new Cartoon(\"Masters of the Universe\");\n",
    "c.protagonist(\"He-Man\");\n",
    "\n",
    "console.log(c);"
   ]
  },
  {
   "cell_type": "markdown",
   "metadata": {},
   "source": [
    "## Modern JavaScript\n",
    "\n",
    "With modern JavaScript, we now have a native `class` syntax for constructing class objects."
   ]
  },
  {
   "cell_type": "code",
   "execution_count": 3,
   "metadata": {},
   "outputs": [
    {
     "name": "stdout",
     "output_type": "stream",
     "text": [
      "Animation { title: 'Masters of the Universe', name: 'He-Man' }\n"
     ]
    }
   ],
   "source": [
    "class Animation {\n",
    "    constructor(title) {\n",
    "        this.title = title;\n",
    "    }\n",
    "    protagonist(name) {\n",
    "        this.name = name;\n",
    "    }\n",
    "}\n",
    "\n",
    "var a = new Animation(\"Masters of the Universe\");\n",
    "a.protagonist(\"He-Man\");\n",
    "\n",
    "console.log(a);"
   ]
  },
  {
   "cell_type": "markdown",
   "metadata": {},
   "source": [
    "## Inheritance\n",
    "\n",
    "Previously, inheritance was only available through some seriously archaic code-mangling.\n",
    "\n",
    "### ES5"
   ]
  },
  {
   "cell_type": "code",
   "execution_count": 4,
   "metadata": {},
   "outputs": [
    {
     "name": "stdout",
     "output_type": "stream",
     "text": [
      "AdventureCartoon { title: 'Masters of the Universe' }\n"
     ]
    }
   ],
   "source": [
    "var Cartoon = function(title) {\n",
    "    this.title = title;\n",
    "};\n",
    "\n",
    "var AdventureCartoon = function (title) {\n",
    "    Cartoon.call(this, title);\n",
    "};\n",
    "\n",
    "AdventureCartoon.prototype = Object.create(Cartoon.prototype);\n",
    "AdventureCartoon.prototype.constructor = AdventureCartoon;\n",
    "\n",
    "var ac = new AdventureCartoon(\"Masters of the Universe\");\n",
    "\n",
    "console.log(ac);"
   ]
  },
  {
   "cell_type": "markdown",
   "metadata": {},
   "source": [
    "###  Modern JavaScript\n",
    "\n",
    "In modern JavaScript, the `class` syntax allows for true class inheritance via the `extends` keyword."
   ]
  },
  {
   "cell_type": "code",
   "execution_count": 5,
   "metadata": {},
   "outputs": [
    {
     "name": "stdout",
     "output_type": "stream",
     "text": [
      "AdventureCartoon { title: 'Masters of the Universe', name: 'He-Man' }\n"
     ]
    }
   ],
   "source": [
    "function showInheritance() { //Function used to scope the classes.\n",
    "\n",
    "    class Cartoon {\n",
    "        constructor(title) {\n",
    "            this.title = title;\n",
    "        }\n",
    "    }\n",
    "\n",
    "    class AdventureCartoon extends Cartoon {\n",
    "        constructor(title) {\n",
    "            super(title);\n",
    "        }\n",
    "        protagonist(name) {\n",
    "            this.name = name;\n",
    "        }\n",
    "    }\n",
    "\n",
    "    var ac = new AdventureCartoon(\"Masters of the Universe\");\n",
    "    ac.protagonist(\"He-Man\");\n",
    "\n",
    "    console.log(ac);\n",
    "}\n",
    "\n",
    "showInheritance();"
   ]
  },
  {
   "cell_type": "markdown",
   "metadata": {},
   "source": [
    "#### This also means access to base class methods."
   ]
  },
  {
   "cell_type": "code",
   "execution_count": 6,
   "metadata": {},
   "outputs": [
    {
     "name": "stdout",
     "output_type": "stream",
     "text": [
      "AdventureCartoon { title: 'Masters of the Universe', name: 'He-Man' }\n"
     ]
    }
   ],
   "source": [
    "function showInheritance() { //Function used to scope the classes.\n",
    "\n",
    "    class Cartoon {\n",
    "        constructor(title) {\n",
    "            this.title = title;\n",
    "        }\n",
    "        protagonist(name) {\n",
    "            this.name = name;\n",
    "        }\n",
    "    }\n",
    "\n",
    "    class AdventureCartoon extends Cartoon {\n",
    "        constructor(title) {\n",
    "            super(title);\n",
    "        }\n",
    "        protagonist(name) {\n",
    "            super.protagonist(name);\n",
    "        }\n",
    "    }\n",
    "\n",
    "    var ac = new AdventureCartoon(\"Masters of the Universe\");\n",
    "    ac.protagonist(\"He-Man\");\n",
    "\n",
    "    console.log(ac);\n",
    "}\n",
    "\n",
    "showInheritance();"
   ]
  },
  {
   "cell_type": "markdown",
   "metadata": {},
   "source": [
    "## Since we have classes...\n",
    "\n",
    "...and we have inheritance, we also might have a need for static methods on classes."
   ]
  },
  {
   "cell_type": "code",
   "execution_count": 7,
   "metadata": {},
   "outputs": [
    {
     "name": "stdout",
     "output_type": "stream",
     "text": [
      "He-Man\n"
     ]
    }
   ],
   "source": [
    "function showStatic() { //Function used to scope the classes.\n",
    "\n",
    "    class Cartoon {\n",
    "        constructor(title) {\n",
    "            this.title = title;\n",
    "        }\n",
    "        static protagonist(name) {\n",
    "            console.log(name);\n",
    "        }\n",
    "    }\n",
    "    \n",
    "    Cartoon.protagonist(\"He-Man\");\n",
    "    \n",
    "}\n",
    "\n",
    "showStatic();"
   ]
  },
  {
   "cell_type": "markdown",
   "metadata": {},
   "source": [
    "## Finally... we have appropriate getters and setters for classes as well."
   ]
  },
  {
   "cell_type": "code",
   "execution_count": 8,
   "metadata": {},
   "outputs": [
    {
     "name": "stdout",
     "output_type": "stream",
     "text": [
      "He-Man\n"
     ]
    }
   ],
   "source": [
    "function showClass() { //Function used to scope the classes.\n",
    "\n",
    "    class Cartoon {\n",
    "        constructor(title) {\n",
    "            this.title = title;\n",
    "        }\n",
    "        get hero() {\n",
    "            return this._hero;\n",
    "        }\n",
    "        set hero(name) {\n",
    "            this._hero = name;\n",
    "        }\n",
    "    }\n",
    "    \n",
    "    const c = new Cartoon(\"Masters of the Universe\");\n",
    "    c.hero = \"He-Man\";\n",
    "    console.log(c.hero);\n",
    "}\n",
    "\n",
    "showClass();"
   ]
  },
  {
   "cell_type": "code",
   "execution_count": null,
   "metadata": {},
   "outputs": [],
   "source": []
  }
 ],
 "metadata": {
  "kernelspec": {
   "display_name": "Javascript (Node.js)",
   "language": "javascript",
   "name": "javascript"
  },
  "language_info": {
   "file_extension": ".js",
   "mimetype": "application/javascript",
   "name": "javascript",
   "version": "8.9.4"
  }
 },
 "nbformat": 4,
 "nbformat_minor": 2
}
