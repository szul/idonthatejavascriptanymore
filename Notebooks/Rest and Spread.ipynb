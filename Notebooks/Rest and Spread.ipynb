{
 "cells": [
  {
   "cell_type": "markdown",
   "metadata": {},
   "source": [
    "# Rest and Spread\n",
    "\n",
    "JavaScript has always been pretty flexible with the way in which is receives or returns parameters and values, but now you can explicitly work with overloading syntax using new rest and spread functionality.\n",
    "\n",
    "## Rest\n",
    "\n",
    "Overloaded JavaScript functions in ES5 required use of a special `arguments` variable that was implicitly created."
   ]
  },
  {
   "cell_type": "code",
   "execution_count": null,
   "metadata": {},
   "outputs": [],
   "source": [
    "function iHaveArgs() {\n",
    "    console.log(arguments);\n",
    "    console.log(arguments[0]);\n",
    "}\n",
    "\n",
    "iHaveArgs(\"hi\", \"how are you?\", \"Fine?\");"
   ]
  },
  {
   "cell_type": "markdown",
   "metadata": {},
   "source": [
    "A lot of times, however, you have explicit parameters mixed with the implicit `arguments`."
   ]
  },
  {
   "cell_type": "code",
   "execution_count": null,
   "metadata": {},
   "outputs": [],
   "source": [
    "function iHaveArgs(greating) {\n",
    "    console.log(greating)\n",
    "    console.log(arguments);\n",
    "    console.log(arguments[0]);\n",
    "}\n",
    "\n",
    "iHaveArgs(\"hi\", \"how are you?\", \"Fine?\");"
   ]
  },
  {
   "cell_type": "markdown",
   "metadata": {},
   "source": [
    "Notice how the `greating` value is also in the `arguments` variable. In order to act on the arguments, you'd have to slice the variable."
   ]
  },
  {
   "cell_type": "code",
   "execution_count": null,
   "metadata": {},
   "outputs": [],
   "source": [
    "function iHaveArgs(greating) {\n",
    "    console.log(greating)\n",
    "    const remaining = arguments.slice(1);\n",
    "    console.log(remaining);\n",
    "}\n",
    "\n",
    "iHaveArgs(\"hi\", \"how are you?\", \"Fine?\");"
   ]
  },
  {
   "cell_type": "markdown",
   "metadata": {},
   "source": [
    "### OH NOES!!!\n",
    "\n",
    "So what happened?\n",
    "\n",
    "From MDN:\n",
    "\n",
    "> arguments is an Array-like object accessible inside functions that contains the values of the arguments passed to that function.\n",
    "\n",
    "The `arguments` variable isn't an \"actual\" array--just \"array-like.\"\n",
    "\n",
    "Yay!\n",
    "\n",
    "Okay, let's try that again."
   ]
  },
  {
   "cell_type": "code",
   "execution_count": null,
   "metadata": {},
   "outputs": [],
   "source": [
    "function iHaveArgs(greating) {\n",
    "    console.log(greating)\n",
    "    const remaining = [].slice.call(arguments, 1);\n",
    "    console.log(remaining);\n",
    "}\n",
    "\n",
    "iHaveArgs(\"hi\", \"how are you?\", \"Fine?\");"
   ]
  },
  {
   "cell_type": "markdown",
   "metadata": {},
   "source": [
    "### ES6\n",
    "\n",
    "Let's do that in ES6 with a rest parameter."
   ]
  },
  {
   "cell_type": "code",
   "execution_count": null,
   "metadata": {},
   "outputs": [],
   "source": [
    "function iHaveArgs(greating, ...remainder) {\n",
    "    console.log(greating);\n",
    "    console.log(remainder);\n",
    "}\n",
    "\n",
    "iHaveArgs(\"hi\", \"how are you?\", \"Fine?\");"
   ]
  },
  {
   "cell_type": "markdown",
   "metadata": {},
   "source": [
    "A rest parameter must be the last parameter in the function definition, and it must be preceded by three dots (`...`). In doing so, JavaScript will convert the remaining arguments into an array."
   ]
  },
  {
   "cell_type": "markdown",
   "metadata": {},
   "source": [
    "## Spread\n",
    "\n",
    "While the rest syntax allows you to overload a function, the spread syntax let's you shorthand a function call.\n",
    "\n",
    "### ES5\n",
    "\n",
    "In older JavaScript, you would have to use the `apply()` method on the function to circumvent this."
   ]
  },
  {
   "cell_type": "code",
   "execution_count": null,
   "metadata": {},
   "outputs": [],
   "source": [
    "function dimensions(x, y, z) {\n",
    "    console.log(`x: ${x}, y:${y}, z:${z}`);\n",
    "}\n",
    "\n",
    "var a = [\"width\", \"height\", \"depth\"]\n",
    "\n",
    "dimensions.apply(null, a);"
   ]
  },
  {
   "cell_type": "markdown",
   "metadata": {},
   "source": [
    "### ES6\n",
    "\n",
    "In ES6, spread will \"spread out\" your array into the parameters for the function."
   ]
  },
  {
   "cell_type": "code",
   "execution_count": null,
   "metadata": {},
   "outputs": [],
   "source": [
    "function dimensions(x, y, z) {\n",
    "    console.log(`x: ${x}, y:${y}, z:${z}`);\n",
    "}\n",
    "\n",
    "var a = [\"width\", \"height\", \"depth\"]\n",
    "\n",
    "dimensions(...a);"
   ]
  },
  {
   "cell_type": "markdown",
   "metadata": {},
   "source": [
    "The spread syntax also allows you to easily combine arrays."
   ]
  },
  {
   "cell_type": "code",
   "execution_count": null,
   "metadata": {},
   "outputs": [],
   "source": [
    "var  descartes = ['x', 'y', 'z']; \n",
    "var variables = ['a', 'b', 'c', ...descartes];\n",
    "\n",
    "console.log(variables);"
   ]
  },
  {
   "cell_type": "code",
   "execution_count": null,
   "metadata": {},
   "outputs": [],
   "source": []
  }
 ],
 "metadata": {
  "kernelspec": {
   "display_name": "Javascript (Node.js)",
   "language": "javascript",
   "name": "javascript"
  },
  "language_info": {
   "file_extension": ".js",
   "mimetype": "application/javascript",
   "name": "javascript",
   "version": "10.6.0"
  }
 },
 "nbformat": 4,
 "nbformat_minor": 2
}
