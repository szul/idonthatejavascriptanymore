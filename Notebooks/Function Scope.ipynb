{
 "cells": [
  {
   "cell_type": "markdown",
   "metadata": {},
   "source": [
    "# You Can Now Scope Your Functions!"
   ]
  },
  {
   "cell_type": "markdown",
   "metadata": {},
   "source": [
    "With ES6, block scope syntax is available, which allows your scoping out both functions and variables with curly braces:\n",
    "\n",
    "```\n",
    "{\n",
    "    //Put your code between some braces!\n",
    "}\n",
    "```"
   ]
  },
  {
   "cell_type": "code",
   "execution_count": 6,
   "metadata": {},
   "outputs": [
    {
     "name": "stdout",
     "output_type": "stream",
     "text": [
      "Hello!\n",
      "Hello, World!\n",
      "Hello!\n"
     ]
    }
   ],
   "source": [
    "{\n",
    "    function hello() {\n",
    "        return \"Hello!\";\n",
    "    }\n",
    "    console.log(hello());\n",
    "    { \n",
    "        function hello () {\n",
    "            return \"Hello, World!\";\n",
    "        }\n",
    "        console.log(hello());\n",
    "    }\n",
    "    console.log(hello());\n",
    "}"
   ]
  },
  {
   "cell_type": "markdown",
   "metadata": {},
   "source": [
    "Bear in mind that this doesn't work without the outer blocks.\n",
    "\n",
    "For example:"
   ]
  },
  {
   "cell_type": "code",
   "execution_count": 7,
   "metadata": {},
   "outputs": [
    {
     "name": "stdout",
     "output_type": "stream",
     "text": [
      "Hello!\n",
      "Hello, World!\n",
      "Hello, World!\n"
     ]
    }
   ],
   "source": [
    "\n",
    "function hello() {\n",
    "    return \"Hello!\";\n",
    "}\n",
    "console.log(hello());\n",
    "{ \n",
    "    function hello () {\n",
    "        return \"Hello, World!\";\n",
    "    }\n",
    "    console.log(hello());\n",
    "}\n",
    "console.log(hello());\n"
   ]
  },
  {
   "cell_type": "code",
   "execution_count": null,
   "metadata": {},
   "outputs": [],
   "source": []
  }
 ],
 "metadata": {
  "kernelspec": {
   "display_name": "Javascript (Node.js)",
   "language": "javascript",
   "name": "javascript"
  },
  "language_info": {
   "file_extension": ".js",
   "mimetype": "application/javascript",
   "name": "javascript",
   "version": "10.6.0"
  }
 },
 "nbformat": 4,
 "nbformat_minor": 2
}
