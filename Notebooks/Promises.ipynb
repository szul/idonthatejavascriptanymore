{
 "cells": [
  {
   "cell_type": "markdown",
   "metadata": {},
   "source": [
    "# Promises\n",
    "\n",
    "Node.JS rides on the backbone of the event loop, which has often caused JavaScript to seem like an endless series of callback functions, such as:"
   ]
  },
  {
   "cell_type": "code",
   "execution_count": null,
   "metadata": {},
   "outputs": [],
   "source": [
    "function doSomething(args, callback) {\n",
    "    console.log(args);\n",
    "    callback();\n",
    "}\n",
    "\n",
    "function doSomethingElse(args, callback) {\n",
    "    console.log(args);\n",
    "    callback();\n",
    "}\n",
    "\n",
    "function doSomethingAgain(args, callback) {\n",
    "    console.log(args);\n",
    "    callback();\n",
    "}\n",
    "\n",
    "var args = [1, 2, 3];\n",
    "\n",
    "doSomething(args, function() {\n",
    "    console.log(\"First\");\n",
    "    doSomethingElse(args, function() {\n",
    "        console.log(\"Second\");\n",
    "        doSomethingAgain(args, function() {\n",
    "            console.log(\"Third\");\n",
    "        });\n",
    "    });\n",
    "});"
   ]
  },
  {
   "cell_type": "markdown",
   "metadata": {},
   "source": [
    "The above would work fine linearly, without the callbacks, but for event-driven or asynchronous functions or methods, you could end up logging statements out-of-sync. And a good portion of Node.JS is asynchronous in order to avoid blocking the event loop unncessarily. Meanwhile, for browser, not only are there plenty of asynchronous functions, but technologies like `IndexedDB`, or the old `XMLHttpRequest` object are event-driven.\n",
    "\n",
    "ES6 tries to solve this by introducing Promises, which admittedly, can seem like a difficult topic to understand. Essentially, with a promise, code \"promises\" not to execute until after another code returns. This is accomplished by establishing an awaitable function with `resolve()` and `reject()` methods to tell the \"waiting\" function whether or not something was successful.\n",
    "\n",
    "The general structure of a Promise is:\n",
    "\n",
    "```javascript\n",
    "new Promise(function(resolve, reject) {\n",
    "    ...\n",
    "}).then(function(result) {\n",
    "    ...\n",
    "}).catch(function(err) {\n",
    "    ...\n",
    "});\n",
    "```\n",
    "\n",
    "The `Promise()` function accepts an anonymous function with `resolve` and `reject` parameters. You put your code inside of this function. If your code is successfully, you then call `resolve()`, passing in the appropriate return data. If it fails, you call `reject()` and pass whatever rejection data you need to. The `then()` function called off of the promise has a anonymous function that accepts the `result` parameter. This parameter holds the value that you passed to `resolve()`. The `catch()` function, meanwhile, has an anonymous function that accepts `err`, which is the data you pass to the `reject()` function.\n",
    "\n",
    "You can also pass Promises around, which allows for creating \"thennable\" functions."
   ]
  },
  {
   "cell_type": "code",
   "execution_count": null,
   "metadata": {},
   "outputs": [],
   "source": [
    "function doSomething(something) {\n",
    "    return new Promise(function(resolve, reject) {\n",
    "        if(something) {\n",
    "            resolve(something.data);\n",
    "        }\n",
    "        else {\n",
    "            reject(\"Something is not available.\");\n",
    "        }\n",
    "    });\n",
    "}\n",
    "\n",
    "const s = {\n",
    "    data: \"Some data\"\n",
    "};\n",
    "\n",
    "doSomething(s).then(function(result) {\n",
    "    ...\n",
    "}).catch(function(err) {\n",
    "    ...\n",
    "});"
   ]
  },
  {
   "cell_type": "markdown",
   "metadata": {},
   "source": [
    "This helps to clean up asynchronous function calls to avoid cascading callback functions, but it still is not a super-clean solution. That's where async/await comes in.\n",
    "\n",
    "## Async/Await\n",
    "\n",
    "The syntax for async/await is highly influenced by C#, which in turn, highly influenced the TypeScript version that ultimately JavaScript pulled from to implement. Much like with a handful of other ES6 functionality, async/await is highly dependent on platform implementation. I'm putting the async/await example here in the ES6 section, but if you need async/await everywhere, you are likely going to want to use TypeScript, and target a specific output.\n",
    "\n",
    "In order to use async/await, you must have a \"thennable\" function to call. In the example we gave above, we had a function called `doSomething()` that returned a Promise. Promises are \"thennable\" so we can use this function as an example. Our first step is to await the function."
   ]
  },
  {
   "cell_type": "markdown",
   "metadata": {},
   "source": [
    "const result = await doSomething(s);\n",
    "\n",
    "In the above line of code, `result` will be the same exact value as the `result` variable passed to the anonymous function in the `then()` call in the example in the promises section. By using `await` we have made this look like a more traditional linear function call in JavaScript. The caveat is that this call must exist inside of a function that is designated with the `async` keyword.\n",
    "\n",
    "    async function iNeedToDoSomething() {\n",
    "        const s = {\n",
    "            data: \"Some data\"\n",
    "        };\n",
    "        const result = await doSomething(s);\n",
    "        return result;\n",
    "    }\n",
    "\n",
    "    const r = iNeedToDoSomething();\n",
    "\n",
    "> The JavaScript.info web site has one of the best references for async/await. You can check it out at http://javascript.info/async-await\n",
    "\n",
    "Async/await gives you the ability to flatten out your coding block hierachy, making the awaited method seem more inline."
   ]
  }
 ],
 "metadata": {
  "kernelspec": {
   "display_name": "Javascript (Node.js)",
   "language": "javascript",
   "name": "javascript"
  },
  "language_info": {
   "file_extension": ".js",
   "mimetype": "application/javascript",
   "name": "javascript",
   "version": "10.6.0"
  }
 },
 "nbformat": 4,
 "nbformat_minor": 2
}
