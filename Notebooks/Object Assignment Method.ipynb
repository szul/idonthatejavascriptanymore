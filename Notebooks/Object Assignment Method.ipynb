{
 "cells": [
  {
   "cell_type": "markdown",
   "metadata": {},
   "source": [
    "# Object Assignment Method\n",
    "\n",
    "As JavaScript continues to evolve, additional methods have been added to native types and objects. For `Object`, modern JavaScript has introduced the `assign()` method to copy enumerable values from one object to another."
   ]
  },
  {
   "cell_type": "code",
   "execution_count": 7,
   "metadata": {},
   "outputs": [
    {
     "name": "stdout",
     "output_type": "stream",
     "text": [
      "{ a: 1, b: 2, c: 4, d: 5, e: 6 }\n"
     ]
    }
   ],
   "source": [
    "var obj = { a: 1, b: 2, c: 3};\n",
    "var takeMyProps = { c: 4, d: 5, e: 6 };\n",
    "\n",
    "var result = Object.assign(obj, takeMyProps);\n",
    "\n",
    "console.log(obj);"
   ]
  },
  {
   "cell_type": "markdown",
   "metadata": {},
   "source": [
    "Even though we are assigning the return value of `assign()` to the `result` variable, notice that this alters the `obj` variable in place.\n",
    "\n",
    "Also notice that the `c` property in `takeMyProps` overwrites the `c` property in `obj`."
   ]
  },
  {
   "cell_type": "code",
   "execution_count": 8,
   "metadata": {},
   "outputs": [
    {
     "name": "stdout",
     "output_type": "stream",
     "text": [
      "{ c: 4, d: 5, e: 6 }\n"
     ]
    }
   ],
   "source": [
    "console.log(takeMyProps);"
   ]
  },
  {
   "cell_type": "markdown",
   "metadata": {},
   "source": [
    "For `takeMyProps`, the variable is not altered, and retains its original properties."
   ]
  },
  {
   "cell_type": "code",
   "execution_count": 5,
   "metadata": {},
   "outputs": [
    {
     "name": "stdout",
     "output_type": "stream",
     "text": [
      "{ a: 1, b: 2, c: 4, d: 5, e: 6 }\n"
     ]
    }
   ],
   "source": [
    "console.log(result);"
   ]
  },
  {
   "cell_type": "markdown",
   "metadata": {},
   "source": [
    "The `assign()` method does have a return value (as mentioned above), and that return value is the result of the assignment/merger. This value is the same as the `obj` object that was altered."
   ]
  },
  {
   "cell_type": "code",
   "execution_count": null,
   "metadata": {},
   "outputs": [],
   "source": []
  }
 ],
 "metadata": {
  "kernelspec": {
   "display_name": "Javascript (Node.js)",
   "language": "javascript",
   "name": "javascript"
  },
  "language_info": {
   "file_extension": ".js",
   "mimetype": "application/javascript",
   "name": "javascript",
   "version": "10.6.0"
  }
 },
 "nbformat": 4,
 "nbformat_minor": 2
}
