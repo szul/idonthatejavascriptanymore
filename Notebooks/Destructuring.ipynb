{
 "cells": [
  {
   "cell_type": "markdown",
   "metadata": {},
   "source": [
    "# Destructuring\n",
    "\n",
    "Objects and arrays are made up of other parts, and often, you need to get at these parts and values in your programming language. Previously, in JavaScript, you would have to access these values through the element/value position.\n",
    "\n",
    "## Arrays in ES5"
   ]
  },
  {
   "cell_type": "code",
   "execution_count": 2,
   "metadata": {},
   "outputs": [
    {
     "name": "stdout",
     "output_type": "stream",
     "text": [
      "This is not efficient.\n"
     ]
    }
   ],
   "source": [
    "var a = [\"x\", \"y\", \"z\"];\n",
    "\n",
    "var x = a[0];\n",
    "var y = a[1];\n",
    "var z = a[2];\n",
    "\n",
    "console.log(\"This is not efficient.\");"
   ]
  },
  {
   "cell_type": "markdown",
   "metadata": {},
   "source": [
    "## Arrays in ES Beyond\n",
    "\n",
    "In modern JavaScript, you can destructure arrays into other variables to reduce the verbosity of your code."
   ]
  },
  {
   "cell_type": "code",
   "execution_count": 3,
   "metadata": {},
   "outputs": [
    {
     "name": "stdout",
     "output_type": "stream",
     "text": [
      "x\n",
      "Much better.\n"
     ]
    }
   ],
   "source": [
    "var a = [\"x\", \"y\", \"z\"];\n",
    "var [x, y, z] = a;\n",
    "\n",
    "console.log(x);\n",
    "console.log(\"Much better.\");"
   ]
  },
  {
   "cell_type": "markdown",
   "metadata": {},
   "source": [
    "You can even skip some values, if you don't need them."
   ]
  },
  {
   "cell_type": "code",
   "execution_count": 4,
   "metadata": {},
   "outputs": [
    {
     "name": "stdout",
     "output_type": "stream",
     "text": [
      "x\n",
      "z\n"
     ]
    }
   ],
   "source": [
    "var a = [\"x\", \"y\", \"z\"];\n",
    "var [x, , z] = a;\n",
    "\n",
    "console.log(x);\n",
    "console.log(z);"
   ]
  },
  {
   "cell_type": "markdown",
   "metadata": {},
   "source": [
    "## This isn't just for arrays\n",
    "\n",
    "You can destructure objects as well.\n",
    "\n",
    "### ES5\n",
    "\n",
    "In legacy JavaScript, you could only access object properties explicitly for each item. For example:"
   ]
  },
  {
   "cell_type": "code",
   "execution_count": 8,
   "metadata": {},
   "outputs": [
    {
     "name": "stdout",
     "output_type": "stream",
     "text": [
      "hello, verbosity\n"
     ]
    }
   ],
   "source": [
    "var obj = {\n",
    "    x: \"0\",\n",
    "    y: \"1\",\n",
    "    z: \"hello\"\n",
    "};\n",
    "\n",
    "var x = obj.x;\n",
    "var y = obj.y;\n",
    "var z = obj.z;\n",
    "\n",
    "console.log(`${z}, verbosity`);"
   ]
  },
  {
   "cell_type": "markdown",
   "metadata": {},
   "source": [
    "Modern JavaScript makes accessing properties on objects much more palettable."
   ]
  },
  {
   "cell_type": "code",
   "execution_count": 9,
   "metadata": {},
   "outputs": [
    {
     "name": "stdout",
     "output_type": "stream",
     "text": [
      "hello, concise verbage\n"
     ]
    }
   ],
   "source": [
    "var obj = {\n",
    "    x: \"0\",\n",
    "    y: \"1\",\n",
    "    z: \"hello\"\n",
    "};\n",
    "\n",
    "var {x, y, z} = obj;\n",
    "\n",
    "console.log(`${z}, concise verbage`);"
   ]
  },
  {
   "cell_type": "markdown",
   "metadata": {},
   "source": [
    "#### You can even deep match for destructuring"
   ]
  },
  {
   "cell_type": "code",
   "execution_count": 10,
   "metadata": {},
   "outputs": [
    {
     "name": "stdout",
     "output_type": "stream",
     "text": [
      "undefined, concise verbage\n"
     ]
    }
   ],
   "source": [
    "var obj = {\n",
    "    a: {\n",
    "        b: \"inner\",\n",
    "        c: \"objects\"\n",
    "    },\n",
    "    x: \"0\",\n",
    "    y: \"1\",\n",
    "    z: \"hello\"\n",
    "};\n",
    "\n",
    "var {a, x, y} = obj;\n",
    "\n",
    "console.log(`${a.b}, concise verbage`);"
   ]
  },
  {
   "cell_type": "markdown",
   "metadata": {},
   "source": [
    "#### Destructuring also offers a way to handle default values and soft failures"
   ]
  },
  {
   "cell_type": "code",
   "execution_count": 11,
   "metadata": {},
   "outputs": [
    {
     "name": "stdout",
     "output_type": "stream",
     "text": [
      "hello is a default for the object\n",
      "2 is a default for the array\n"
     ]
    }
   ],
   "source": [
    "var obj = {\n",
    "    x: \"0\",\n",
    "    y: \"1\"\n",
    "};\n",
    "\n",
    "var {x, y, z = \"hello\"} = obj;\n",
    "\n",
    "var arr = [\"a\", \"b\"];\n",
    "var [a, b, c = \"2\"] = arr;\n",
    "\n",
    "console.log(`${z} is a default for the object`);\n",
    "console.log(`${c} is a default for the array`);"
   ]
  },
  {
   "cell_type": "code",
   "execution_count": 12,
   "metadata": {},
   "outputs": [
    {
     "name": "stdout",
     "output_type": "stream",
     "text": [
      "undefined is not in the array, but doesn't throw an exception\n"
     ]
    }
   ],
   "source": [
    "var arr = [\"a\", \"b\"];\n",
    "var [a, b, c] = arr;\n",
    "\n",
    "console.log(`${c} is not in the array, but doesn't throw an exception`);"
   ]
  },
  {
   "cell_type": "markdown",
   "metadata": {},
   "source": [
    "## This has a great effect on Express and Restify\n",
    "\n",
    "With this more concise destructuring, it makes accessing request variables easier in frameworks like Express and Restify.\n",
    "\n",
    "```javascript\n",
    "app.get(getBaseAPI(\"/api/Course/Schedule/Week/List\"), async (req: express.Request, res: express.Response) => {\n",
    "    const { ComputingID, CourseID } = req.query;\n",
    "    const result = ...\n",
    "    res.json(result);\n",
    "});\n",
    "```\n"
   ]
  },
  {
   "cell_type": "code",
   "execution_count": null,
   "metadata": {},
   "outputs": [],
   "source": []
  }
 ],
 "metadata": {
  "kernelspec": {
   "display_name": "Javascript (Node.js)",
   "language": "javascript",
   "name": "javascript"
  },
  "language_info": {
   "file_extension": ".js",
   "mimetype": "application/javascript",
   "name": "javascript",
   "version": "8.9.4"
  }
 },
 "nbformat": 4,
 "nbformat_minor": 2
}
