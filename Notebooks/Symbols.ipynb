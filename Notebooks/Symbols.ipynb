{
 "cells": [
  {
   "cell_type": "markdown",
   "metadata": {},
   "source": [
    "# Symbols\n",
    "\n",
    "The `Symbol` object is an immutable object that can act as a unique identifier. In fact, usage as a unique identifier is the only purpose for the symbol type.\n",
    "\n",
    "You can create a symbol by passing a string to the `Symbol()` method:"
   ]
  },
  {
   "cell_type": "code",
   "execution_count": null,
   "metadata": {},
   "outputs": [],
   "source": [
    "var s = Symbol(\"This is a symbol\");\n",
    "console.log(s);"
   ]
  },
  {
   "cell_type": "markdown",
   "metadata": {},
   "source": [
    "> Note that there is no `new` prior to passing the string to `Symbol()`.\n",
    "\n",
    "Every value returned by `Symbol()` is unique--even if the data passed to it is the same:"
   ]
  },
  {
   "cell_type": "code",
   "execution_count": null,
   "metadata": {},
   "outputs": [],
   "source": [
    "var s1 = Symbol(\"This is a symbol\");\n",
    "var s2 = Symbol(\"This is a symbol\");\n",
    "\n",
    "console.log(s1);\n",
    "console.log(s2);\n",
    "\n",
    "console.log(s1 === s2);"
   ]
  },
  {
   "cell_type": "markdown",
   "metadata": {},
   "source": [
    "> The string passed into the `Symbol()` method is actually the description for the symbol, and it's completely optional. You could just as easily write `var s = Symbol()`."
   ]
  },
  {
   "cell_type": "markdown",
   "metadata": {},
   "source": [
    "## Symbols on Objects\n",
    "\n",
    "Since symbols are immutable identifiers, it would make sense to want to use them on objects. As such, you can use the `Object.getOwnPropertySymbols()` method to acquire all of the symbols on a given object:"
   ]
  },
  {
   "cell_type": "code",
   "execution_count": null,
   "metadata": {},
   "outputs": [],
   "source": [
    "var obj = {\n",
    "    \n",
    "};\n",
    "\n",
    "console.log(Object.getOwnPropertySymbols(obj));"
   ]
  },
  {
   "cell_type": "code",
   "execution_count": null,
   "metadata": {},
   "outputs": [],
   "source": [
    "var s1 = Symbol(\"This is a symbol\");\n",
    "var s2 = Symbol(\"This is another symbol\");\n",
    "\n",
    "obj[s1] = \"First symbol\";\n",
    "obj[s2] = \"Second symbol\";\n",
    "\n",
    "console.log(Object.getOwnPropertySymbols(obj));"
   ]
  },
  {
   "cell_type": "markdown",
   "metadata": {},
   "source": [
    "Notice in the above code how the symbol is used as the property name since it is meant to be a unique identifier."
   ]
  },
  {
   "cell_type": "code",
   "execution_count": null,
   "metadata": {},
   "outputs": [],
   "source": [
    "console.log(s1.valueOf())"
   ]
  },
  {
   "cell_type": "markdown",
   "metadata": {},
   "source": [
    "## Shared Symbols\n",
    "\n",
    "Symbols can be shared across a global symbol registry. If that's the case, you can access them using the `Symbol.for()` method, and you can access the description with the `Symbol.keyFor()` method:"
   ]
  },
  {
   "cell_type": "code",
   "execution_count": null,
   "metadata": {},
   "outputs": [],
   "source": [
    "var k = Symbol.for(\"This is a symbol\");\n",
    "console.log(k);"
   ]
  },
  {
   "cell_type": "code",
   "execution_count": null,
   "metadata": {},
   "outputs": [],
   "source": [
    "console.log(typeof k);"
   ]
  },
  {
   "cell_type": "code",
   "execution_count": null,
   "metadata": {},
   "outputs": [],
   "source": [
    "console.log(k === Symbol.for(\"This is a symbol\"))"
   ]
  },
  {
   "cell_type": "markdown",
   "metadata": {},
   "source": [
    "If you attempt to get a symbol from the global symbol registry, and it doesn't exist, one will be created and returned:"
   ]
  },
  {
   "cell_type": "code",
   "execution_count": null,
   "metadata": {},
   "outputs": [],
   "source": [
    "var doesntExist = Symbol.for(\"This isn't there yet\");\n",
    "console.log(doesntExist);"
   ]
  },
  {
   "cell_type": "markdown",
   "metadata": {},
   "source": [
    "We can get just the description too:"
   ]
  },
  {
   "cell_type": "code",
   "execution_count": null,
   "metadata": {},
   "outputs": [],
   "source": [
    "console.log(Symbol.keyFor(doesntExist));"
   ]
  },
  {
   "cell_type": "markdown",
   "metadata": {},
   "source": [
    "> It's important to note that symbols as object properties will not be returned with methods like `Object.getOwnPropertyNames()`--nor will they be present if you use `JSON.stringify()` on an object containing symbols."
   ]
  },
  {
   "cell_type": "code",
   "execution_count": null,
   "metadata": {},
   "outputs": [],
   "source": []
  }
 ],
 "metadata": {
  "kernelspec": {
   "display_name": "Javascript (Node.js)",
   "language": "javascript",
   "name": "javascript"
  },
  "language_info": {
   "file_extension": ".js",
   "mimetype": "application/javascript",
   "name": "javascript",
   "version": "10.6.0"
  }
 },
 "nbformat": 4,
 "nbformat_minor": 2
}
