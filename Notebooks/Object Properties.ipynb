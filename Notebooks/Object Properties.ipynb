{
 "cells": [
  {
   "cell_type": "markdown",
   "metadata": {},
   "source": [
    "# Object Properties and Shortcuts\n",
    "\n",
    "ES6 has also introduced us to a few shortcuts to make object construction easier.\n",
    "\n",
    "## Property Shorthand\n",
    "\n",
    "### ES5"
   ]
  },
  {
   "cell_type": "code",
   "execution_count": 1,
   "metadata": {},
   "outputs": [
    {
     "name": "stdout",
     "output_type": "stream",
     "text": [
      "{ a: 1, b: 2, c: 3 }\n"
     ]
    }
   ],
   "source": [
    "var a = 1, b = 2, c = 3;\n",
    "var obj = {\n",
    "  a: a,\n",
    "  b: b,\n",
    "  c: c\n",
    "};\n",
    "console.log(obj);"
   ]
  },
  {
   "cell_type": "markdown",
   "metadata": {},
   "source": [
    "That's great, but a bit of a pain to have to describe the properties that have identical labels to their variables.\n",
    "\n",
    "### ES6"
   ]
  },
  {
   "cell_type": "code",
   "execution_count": 2,
   "metadata": {},
   "outputs": [
    {
     "name": "stdout",
     "output_type": "stream",
     "text": [
      "{ x: 1, y: 2, z: 3 }\n"
     ]
    }
   ],
   "source": [
    "var x = 1, y = 2, z = 3;\n",
    "var param = { x, y, z };\n",
    "console.log(param);"
   ]
  },
  {
   "cell_type": "markdown",
   "metadata": {},
   "source": [
    "## Methods in objects are a pain\n",
    "\n",
    "Ever have to construct an object that includes functions as methods on the object? It's an awkward concoction.\n",
    "\n",
    "### ES5"
   ]
  },
  {
   "cell_type": "code",
   "execution_count": 4,
   "metadata": {},
   "outputs": [
    {
     "name": "stdout",
     "output_type": "stream",
     "text": [
      "It's always true regardless of your opinion.\n"
     ]
    }
   ],
   "source": [
    "var Dogs = {\n",
    "    areTheyBetterThanCats: function(answer) {\n",
    "        if(answer == true) {\n",
    "            return true;\n",
    "        }\n",
    "        return true;\n",
    "    }\n",
    "};\n",
    "\n",
    "console.log(\"It's always true regardless of your opinion.\");"
   ]
  },
  {
   "cell_type": "markdown",
   "metadata": {},
   "source": [
    "### ES6\n",
    "\n",
    "Let's clean this up a bit."
   ]
  },
  {
   "cell_type": "code",
   "execution_count": 5,
   "metadata": {},
   "outputs": [
    {
     "name": "stdout",
     "output_type": "stream",
     "text": [
      "It's always true regardless of your opinion.\n"
     ]
    }
   ],
   "source": [
    "var Dogs = {\n",
    "    areTheyBetterThanCats(answer) {\n",
    "        if(answer === true) {\n",
    "            return true;\n",
    "        }\n",
    "        return true;\n",
    "    }\n",
    "};\n",
    "\n",
    "console.log(\"It's always true regardless of your opinion.\");"
   ]
  },
  {
   "cell_type": "markdown",
   "metadata": {},
   "source": [
    "This makes it look a little closes to traditional objects and classes."
   ]
  },
  {
   "cell_type": "markdown",
   "metadata": {},
   "source": [
    "## Dynamic object property names\n",
    "\n",
    "Sometimes, you're constructing an object dynamically, and you need the property names on that object to also be dynamic. In ES5, you had to do this by accessing/assigning to the object using the square bracket syntax."
   ]
  },
  {
   "cell_type": "code",
   "execution_count": 6,
   "metadata": {},
   "outputs": [
    {
     "name": "stdout",
     "output_type": "stream",
     "text": [
      "{ '0-Sat May 18 2019 11:16:03 GMT-0400 (Eastern Daylight Time)': 'some value' }\n"
     ]
    }
   ],
   "source": [
    "var date = new Date();\n",
    "var idx = 0;\n",
    "\n",
    "var events = {\n",
    "    \n",
    "};\n",
    "\n",
    "events[idx + '-' + date] = \"some value\";\n",
    "\n",
    "console.log(events);"
   ]
  },
  {
   "cell_type": "markdown",
   "metadata": {},
   "source": [
    "### ES6\n",
    "\n",
    "In ES6, we can shortcut this by moving the square brackets into the object declaration."
   ]
  },
  {
   "cell_type": "code",
   "execution_count": 7,
   "metadata": {},
   "outputs": [
    {
     "name": "stdout",
     "output_type": "stream",
     "text": [
      "{ '0-Sat May 18 2019 11:16:28 GMT-0400 (Eastern Daylight Time)': 'some value' }\n"
     ]
    }
   ],
   "source": [
    "var date = new Date();\n",
    "var idx = 0;\n",
    "\n",
    "var events = {\n",
    "    [idx + '-' + date]: \"some value\"\n",
    "};\n",
    "\n",
    "console.log(events);"
   ]
  },
  {
   "cell_type": "code",
   "execution_count": null,
   "metadata": {},
   "outputs": [],
   "source": []
  }
 ],
 "metadata": {
  "kernelspec": {
   "display_name": "Javascript (Node.js)",
   "language": "javascript",
   "name": "javascript"
  },
  "language_info": {
   "file_extension": ".js",
   "mimetype": "application/javascript",
   "name": "javascript",
   "version": "8.9.4"
  }
 },
 "nbformat": 4,
 "nbformat_minor": 2
}
