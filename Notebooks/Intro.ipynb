{
 "cells": [
  {
   "cell_type": "markdown",
   "metadata": {},
   "source": [
    "# I Don't Hate JavaScript Anymore\n",
    "\n",
    "## The early years\n",
    "\n",
    "I used to program for Netscape Navigator 4.5 and IE 5 in the late 1990's/early 2000's with JavaScript in one browser, and VBScript and JScript in the other.\n",
    "\n",
    "In the early 2000's I programmed a fully featured insurance application with a great deal of...\n",
    "\n",
    "* `getElementById()`\n",
    "* `getElementByTagNames()`\n",
    "* `children`\n",
    "\n",
    "**I hated JavaScript.**\n",
    "\n",
    "## The standards years\n",
    "\n",
    "ECMAScript standardization attempted to solve some of these problems, but community and corporate in-fighting kept any real progress from happening.\n",
    "\n",
    "**I hated JavaScript**\n",
    "\n",
    "## jQuery\n",
    "\n",
    "2005 gave us cssQuery, which influenced John Resig to building jQuery, released in 2006. [Pro JavaScript Techniques](https://www.amazon.com/Pro-JavaScript-Techniques-John-Resig/dp/1590597273/ref=sr_1_3?qid=1557150547&refinements=p_27%3AJohn+Resig&s=books&sr=1-3&text=John+Resig) is a fascinating look at how Resig built around existing ideas to create jQuery.\n",
    "\n",
    "jQuery solved browser compatibility issues, while making DOM programming easy. It also had a simple plugin architecture that helped grow an ecosystem and community of contributions.\n",
    "\n",
    "Unfortunately, browser issues still persisted on newer APIs, and although jQuery made things easier, the plugin ecosystem created a culture of plugin-poppers and script-kiddies, allowing tinkers, marketers, and designers to cobble together various scripts to create a pretty solution for customers... that couldn't scale, had security holes, and created a dirth of issues for the programmers that had to implement the solution across applications or services.\n",
    "\n",
    "**I hated JavaScript**\n",
    "\n",
    "## The *actual* standards years\n",
    "\n",
    "Chrome's dominance, Mozilla's open source push, and the *new* Microsoft began to actually collaborate on standards and implementation (Microsoft with Edge--IE was still a lost cause). Browser releases started moving at a faster pace--not tied to operating systems, physical CD's, or poor bandwidth connections.\n",
    "\n",
    "...but we still used jQuery :(\n",
    "\n",
    "## ECMAScript 6 (or 2015, or 2016, or Next, or, man, programmers are really terrible at naming things...\n",
    "\n",
    "After ES4 failed, and JavaScript continued to have issues, a few dedicated people got together to \"harmonize\" JavaScript.\n",
    "\n",
    "### ECMAScript Harmony\n",
    "\n",
    "*This would have been a better name/designation*\n",
    "\n",
    "This talk is meant to show you that if you're still using jQuery, you're doing it all wrong. Modern JavaScript not only handles browser compatibility issues, but recent JavaScript web APIs have greatly improved many aspects of the language.\n",
    "\n",
    "I will refer to modern JavaScript as \"ES6\" even though some of the features were available in later release. Essentially, ES6 is taken to mean **not ES5**. The transition from ES5 to ES6 is a transition to continuously updated browsers, and modern JavaScript."
   ]
  },
  {
   "cell_type": "code",
   "execution_count": null,
   "metadata": {},
   "outputs": [],
   "source": []
  }
 ],
 "metadata": {
  "kernelspec": {
   "display_name": "Javascript (Node.js)",
   "language": "javascript",
   "name": "javascript"
  },
  "language_info": {
   "file_extension": ".js",
   "mimetype": "application/javascript",
   "name": "javascript",
   "version": "8.9.4"
  }
 },
 "nbformat": 4,
 "nbformat_minor": 2
}
