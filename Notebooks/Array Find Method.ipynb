{
 "cells": [
  {
   "cell_type": "markdown",
   "metadata": {},
   "source": [
    "# Array Find Method\n",
    "\n",
    "Modern JavaScript introduces us to the `find()` and `findIndex()` methods on arrays, which helps in traversing array elements, and returning the needed value. Prior to this, you would have to use the `filter()` method."
   ]
  },
  {
   "cell_type": "code",
   "execution_count": null,
   "metadata": {},
   "outputs": [],
   "source": [
    "var a = [1, 2, 3, 4, 5, 6, 7, 8, 9, 10];"
   ]
  },
  {
   "cell_type": "code",
   "execution_count": null,
   "metadata": {},
   "outputs": [],
   "source": [
    "a.filter(x => x > 5);"
   ]
  },
  {
   "cell_type": "markdown",
   "metadata": {},
   "source": [
    "> In the examples in this notebook, the cell is logging the value of the last thing executed, so the above code is the equivalent of me writing:\n",
    "\n",
    "```javascript\n",
    "var result = a.filter(x => x > 5);\n",
    "console.log(result);\n",
    "```\n",
    "\n",
    "Now let's look at `find()`:"
   ]
  },
  {
   "cell_type": "code",
   "execution_count": null,
   "metadata": {},
   "outputs": [],
   "source": [
    "a.find(x => x > 5);"
   ]
  },
  {
   "cell_type": "markdown",
   "metadata": {},
   "source": [
    "Notice now `find()` returns the first item that passes the test. The `filter()` method returns all items that pass.\n",
    "\n",
    "In addition to `find()` for returning the item, we have `findIndex()`, which does the same thing, but returns the index in the array."
   ]
  },
  {
   "cell_type": "code",
   "execution_count": null,
   "metadata": {},
   "outputs": [],
   "source": [
    "a.findIndex(x => x > 5);"
   ]
  },
  {
   "cell_type": "markdown",
   "metadata": {},
   "source": [
    "How is this different than `indexOf()` on an array? With `indexOf()` you get the index of the item that matches the parameter you pass in, whereas `findIndex()` allows you to actually pass a test, making it more flexible."
   ]
  },
  {
   "cell_type": "code",
   "execution_count": null,
   "metadata": {},
   "outputs": [],
   "source": [
    "var technology = ['software', 'computer', 'network', 'cloud'];\n",
    "\n",
    "var result = technology.indexOf('computer');\n",
    "console.log(result);"
   ]
  },
  {
   "cell_type": "code",
   "execution_count": null,
   "metadata": {},
   "outputs": [],
   "source": []
  }
 ],
 "metadata": {
  "kernelspec": {
   "display_name": "Javascript (Node.js)",
   "language": "javascript",
   "name": "javascript"
  },
  "language_info": {
   "file_extension": ".js",
   "mimetype": "application/javascript",
   "name": "javascript",
   "version": "10.6.0"
  }
 },
 "nbformat": 4,
 "nbformat_minor": 2
}
