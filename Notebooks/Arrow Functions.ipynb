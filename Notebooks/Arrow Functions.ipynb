{
 "cells": [
  {
   "cell_type": "markdown",
   "metadata": {},
   "source": [
    "# Arrow Functions\n",
    "\n",
    "It's not uncommon to see anonyous functions in JavaScript, since function can be passed to other functions as callbacks, and you might not need to name a function since it won't be reused in any other way except during that callback.\n",
    "\n",
    "## ES5\n",
    "\n",
    "In ES5, you might see a callback like this."
   ]
  },
  {
   "cell_type": "code",
   "execution_count": 1,
   "metadata": {},
   "outputs": [
    {
     "name": "stdout",
     "output_type": "stream",
     "text": [
      "Using an anonymous function for a callback...\n",
      "Keep it anonymous!\n"
     ]
    }
   ],
   "source": [
    "function executeAnotherFunction(msg, callback) {\n",
    "    console.log(msg);\n",
    "    callback();\n",
    "}\n",
    "\n",
    "executeAnotherFunction(\"Using an anonymous function for a callback...\", function() {\n",
    "    console.log(\"Keep it anonymous!\");\n",
    "});"
   ]
  },
  {
   "cell_type": "markdown",
   "metadata": {},
   "source": [
    "## ES6\n",
    "\n",
    "In ES6, arrow functions let you shorten this."
   ]
  },
  {
   "cell_type": "code",
   "execution_count": 2,
   "metadata": {},
   "outputs": [
    {
     "name": "stdout",
     "output_type": "stream",
     "text": [
      "Using an anonymous function for a callback...\n",
      "Keep it anonymous!\n"
     ]
    }
   ],
   "source": [
    "executeAnotherFunction(\"Using an anonymous function for a callback...\", () => {\n",
    "    console.log(\"Keep it anonymous!\");\n",
    "});"
   ]
  },
  {
   "cell_type": "markdown",
   "metadata": {},
   "source": [
    "### But wait! There more!\n",
    "\n",
    "We can make it even shorter, since the curly brackets aren't necessary."
   ]
  },
  {
   "cell_type": "code",
   "execution_count": 3,
   "metadata": {},
   "outputs": [
    {
     "name": "stdout",
     "output_type": "stream",
     "text": [
      "Using an anonymous function for a callback...\n",
      "Keep it anonymous!\n"
     ]
    }
   ],
   "source": [
    "executeAnotherFunction(\"Using an anonymous function for a callback...\", () => console.log(\"Keep it anonymous!\"));"
   ]
  },
  {
   "cell_type": "markdown",
   "metadata": {},
   "source": [
    "## So what's the big deal?\n",
    "\n",
    "The examples that we showed you above are what's called statement bodies, and introducing the arrow function essentially allows you to shorten the statement body, making code a little more concise and readable.\n",
    "\n",
    "Arrow function, however, introduce a little more power in their concise nature if we look at the expression bodies of certain functions, especially functions that work on iterable objects.\n",
    "\n",
    "Let's take the `map()` function for example. The `map()` function creates a new array from an old array after an operation is performed on it.\n",
    "\n",
    "### ES5\n",
    "\n",
    "In ES5, we might have to do something like this:"
   ]
  },
  {
   "cell_type": "code",
   "execution_count": 4,
   "metadata": {},
   "outputs": [
    {
     "name": "stdout",
     "output_type": "stream",
     "text": [
      "[ 'SuperAdmin',\n",
      "  'Admin',\n",
      "  'NotQuiteAdmin',\n",
      "  'DefinitelyNotAdmin',\n",
      "  'SeriouslyWhyAreYouTrying' ]\n"
     ]
    }
   ],
   "source": [
    "var memberships = [\n",
    "  'CN=SuperAdmin,OU=Security,DC=DOM,DC=NT',\n",
    "  'CN=Admin,OU=Security,DC=DOM,DC=NT',\n",
    "  'CN=NotQuiteAdmin,OU=Security,DC=DOM,DC=NT',\n",
    "  'CN=DefinitelyNotAdmin,OU=Security,DC=DOM,DC=NT',\n",
    "  'CN=SeriouslyWhyAreYouTrying,OU=Security,DC=DOM,DC=NT'\n",
    "];\n",
    "\n",
    "var groups = memberships.map(function(f) {\n",
    "    return f.split(\",\")[0].replace(\"CN=\", \"\")\n",
    "});\n",
    "\n",
    "console.log(groups);"
   ]
  },
  {
   "cell_type": "markdown",
   "metadata": {},
   "source": [
    "### ES6\n",
    "\n",
    "Now let's try that again in ES6."
   ]
  },
  {
   "cell_type": "code",
   "execution_count": 5,
   "metadata": {},
   "outputs": [
    {
     "name": "stdout",
     "output_type": "stream",
     "text": [
      "[ 'SuperAdmin',\n",
      "  'Admin',\n",
      "  'NotQuiteAdmin',\n",
      "  'DefinitelyNotAdmin',\n",
      "  'SeriouslyWhyAreYouTrying' ]\n"
     ]
    }
   ],
   "source": [
    "var groups = memberships.map((f) => f.split(\",\")[0].replace(\"CN=\", \"\"));\n",
    "\n",
    "console.log(groups);"
   ]
  },
  {
   "cell_type": "markdown",
   "metadata": {},
   "source": [
    "Notice that we're not only removing the `function` keywork and the curly brackets, but we've also eliminated the `return` keyword, since it's implied. It you wanted to make it even more compact, you could get rid of the parenthesis around `f`."
   ]
  },
  {
   "cell_type": "code",
   "execution_count": 6,
   "metadata": {},
   "outputs": [
    {
     "name": "stdout",
     "output_type": "stream",
     "text": [
      "[ 'SuperAdmin',\n",
      "  'Admin',\n",
      "  'NotQuiteAdmin',\n",
      "  'DefinitelyNotAdmin',\n",
      "  'SeriouslyWhyAreYouTrying' ]\n"
     ]
    }
   ],
   "source": [
    "var groups = memberships.map(f => f.split(\",\")[0].replace(\"CN=\", \"\"));\n",
    "\n",
    "console.log(groups);"
   ]
  },
  {
   "cell_type": "markdown",
   "metadata": {},
   "source": [
    "## Lexical Scope\n",
    "\n",
    "The other important feature of arrow functions is that they do *not* have their own `this`. In ES5, each function, method, or constructor defined it's own `this`, which caused the special variable to be rescoped, and potentially unintuitive.\n",
    "\n",
    "Although this does help with closures, allowing `this` to refer to a class object rather than being scoped during a `forEach()` loop, it can trip you up in other areas."
   ]
  },
  {
   "cell_type": "code",
   "execution_count": 8,
   "metadata": {},
   "outputs": [
    {
     "ename": "SyntaxError",
     "evalue": "Identifier 'House' has already been declared",
     "output_type": "error",
     "traceback": [
      "evalmachine.<anonymous>:1",
      "class House {",
      "^",
      "",
      "SyntaxError: Identifier 'House' has already been declared",
      "    at evalmachine.<anonymous>:1:1",
      "    at ContextifyScript.Script.runInThisContext (vm.js:50:33)",
      "    at Object.runInThisContext (vm.js:139:38)",
      "    at run ([eval]:1002:15)",
      "    at onRunRequest ([eval]:829:18)",
      "    at onMessage ([eval]:789:13)",
      "    at emitTwo (events.js:126:13)",
      "    at process.emit (events.js:214:7)",
      "    at emit (internal/child_process.js:772:12)",
      "    at _combinedTickCallback (internal/process/next_tick.js:141:11)"
     ]
    }
   ],
   "source": [
    "class House {\n",
    "    constructor() {\n",
    "        this.colors = ['red','green','blue'];\n",
    "        this.color = 'yellow';\n",
    "    }\n",
    "    loop() {\n",
    "        this.colors.forEach(function(val) {\n",
    "            this.color = val;\n",
    "            console.log(this.color);\n",
    "        });\n",
    "    }\n",
    "}"
   ]
  },
  {
   "cell_type": "code",
   "execution_count": 9,
   "metadata": {},
   "outputs": [
    {
     "ename": "TypeError",
     "evalue": "Cannot set property 'color' of undefined",
     "output_type": "error",
     "traceback": [
      "evalmachine.<anonymous>:8",
      "            this.color = val;",
      "                       ^",
      "",
      "TypeError: Cannot set property 'color' of undefined",
      "    at evalmachine.<anonymous>:8:24",
      "    at Array.forEach (<anonymous>)",
      "    at House.loop (evalmachine.<anonymous>:7:21)",
      "    at evalmachine.<anonymous>:2:3",
      "    at ContextifyScript.Script.runInThisContext (vm.js:50:33)",
      "    at Object.runInThisContext (vm.js:139:38)",
      "    at run ([eval]:1002:15)",
      "    at onRunRequest ([eval]:829:18)",
      "    at onMessage ([eval]:789:13)",
      "    at emitTwo (events.js:126:13)"
     ]
    }
   ],
   "source": [
    "var h = new House();\n",
    "h.loop();"
   ]
  },
  {
   "cell_type": "code",
   "execution_count": 10,
   "metadata": {},
   "outputs": [],
   "source": [
    "class NewHouse {\n",
    "    constructor() {\n",
    "        this.colors = ['red','green','blue'];\n",
    "        this.color = 'yellow';\n",
    "    }\n",
    "    loop() {\n",
    "        this.colors.forEach((val) => {\n",
    "            this.color = val;\n",
    "            console.log(this.color);\n",
    "        });\n",
    "    }\n",
    "}"
   ]
  },
  {
   "cell_type": "code",
   "execution_count": 11,
   "metadata": {},
   "outputs": [
    {
     "name": "stdout",
     "output_type": "stream",
     "text": [
      "red\n",
      "green\n",
      "blue\n"
     ]
    }
   ],
   "source": [
    "var h = new NewHouse();\n",
    "h.loop();"
   ]
  },
  {
   "cell_type": "code",
   "execution_count": null,
   "metadata": {},
   "outputs": [],
   "source": []
  }
 ],
 "metadata": {
  "kernelspec": {
   "display_name": "Javascript (Node.js)",
   "language": "javascript",
   "name": "javascript"
  },
  "language_info": {
   "file_extension": ".js",
   "mimetype": "application/javascript",
   "name": "javascript",
   "version": "8.9.4"
  }
 },
 "nbformat": 4,
 "nbformat_minor": 2
}
