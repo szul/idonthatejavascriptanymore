{
 "cells": [
  {
   "cell_type": "markdown",
   "metadata": {},
   "source": [
    "# Maps\n",
    "\n",
    "The flip side to `Set` in JavaScript is `Map`. Maps are objects that hold key/value pairs, and act the same way that other iterables do in JavaScript. When you iterate over a `Map` object, the iterator does so in insertion order."
   ]
  },
  {
   "cell_type": "code",
   "execution_count": 9,
   "metadata": {},
   "outputs": [
    {
     "name": "stdout",
     "output_type": "stream",
     "text": [
      "Map { 1 => 'a', 2 => 'b', 3 => 'c' }\n"
     ]
    }
   ],
   "source": [
    "var a = [[1, \"a\"], [2, \"b\"], [3, \"c\"]]\n",
    "var m = new Map(a);\n",
    "console.log(m);"
   ]
  },
  {
   "cell_type": "markdown",
   "metadata": {},
   "source": [
    "Much like with `Set`, `Map` does not offer a `length` property, but instead depends on `size`"
   ]
  },
  {
   "cell_type": "code",
   "execution_count": 10,
   "metadata": {},
   "outputs": [
    {
     "name": "stdout",
     "output_type": "stream",
     "text": [
      "undefined\n",
      "3\n"
     ]
    }
   ],
   "source": [
    "console.log(m.length);\n",
    "console.log(m.size);"
   ]
  },
  {
   "cell_type": "markdown",
   "metadata": {},
   "source": [
    "## You can check for entries in a similar manner as `Set`"
   ]
  },
  {
   "cell_type": "code",
   "execution_count": 11,
   "metadata": {},
   "outputs": [
    {
     "name": "stdout",
     "output_type": "stream",
     "text": [
      "true\n"
     ]
    }
   ],
   "source": [
    "var b = m.has(1);\n",
    "console.log(b);"
   ]
  },
  {
   "cell_type": "markdown",
   "metadata": {},
   "source": [
    "## And managing maps also works the similarly\n",
    "\n",
    "The biggest difference is that instead of `add()` with maps, we have `set()`, which takes two parameters: a key and a value."
   ]
  },
  {
   "cell_type": "code",
   "execution_count": 12,
   "metadata": {},
   "outputs": [
    {
     "name": "stdout",
     "output_type": "stream",
     "text": [
      "Map { 2 => 'b', 3 => 'c', 4 => 'd' }\n"
     ]
    }
   ],
   "source": [
    "m.set(4,\"d\");\n",
    "m.delete(1);\n",
    "\n",
    "console.log(m);"
   ]
  },
  {
   "cell_type": "code",
   "execution_count": 13,
   "metadata": {},
   "outputs": [
    {
     "name": "stdout",
     "output_type": "stream",
     "text": [
      "Map {}\n"
     ]
    }
   ],
   "source": [
    "m.clear();\n",
    "console.log(m);"
   ]
  },
  {
   "cell_type": "code",
   "execution_count": 16,
   "metadata": {},
   "outputs": [
    {
     "name": "stdout",
     "output_type": "stream",
     "text": [
      "Map { 1 => 'a', 2 => 'b', 3 => 'c' }\n"
     ]
    }
   ],
   "source": [
    "var m1 = new Map(a);\n",
    "console.log(m1);"
   ]
  },
  {
   "cell_type": "markdown",
   "metadata": {},
   "source": [
    "## And, of course, you can `get()` items as well"
   ]
  },
  {
   "cell_type": "code",
   "execution_count": 18,
   "metadata": {},
   "outputs": [
    {
     "name": "stdout",
     "output_type": "stream",
     "text": [
      "c\n"
     ]
    }
   ],
   "source": [
    "var v = m1.get(3);\n",
    "console.log(v);"
   ]
  },
  {
   "cell_type": "markdown",
   "metadata": {},
   "source": [
    "## What about iterating?\n",
    "\n",
    "Iterating works the same way as it did with the `Set` object. You can use `values()`, `entries()`, and `forEach()`. But remember that `entries()` and the callback function for `forEach()` used key/value pairs. This makes way more sense with maps than sets."
   ]
  },
  {
   "cell_type": "code",
   "execution_count": 19,
   "metadata": {},
   "outputs": [
    {
     "name": "stdout",
     "output_type": "stream",
     "text": [
      "[ 1, 'a' ]\n",
      "[ 2, 'b' ]\n",
      "[ 3, 'c' ]\n"
     ]
    }
   ],
   "source": [
    "var iter = m1.entries();\n",
    "for(var e of iter) {\n",
    "    console.log(e);\n",
    "}"
   ]
  },
  {
   "cell_type": "markdown",
   "metadata": {},
   "source": [
    "## Now about `keys()` and `values()`\n",
    "\n",
    "With `Set` the `values()` method provided the entries in a set, while the `keys()` method did the same thing. This is because the `Set` specification wanted to remain closely aligned with `Map`. With maps, `keys()` will actually return the keys."
   ]
  },
  {
   "cell_type": "code",
   "execution_count": 21,
   "metadata": {},
   "outputs": [
    {
     "name": "stdout",
     "output_type": "stream",
     "text": [
      "MapIterator { 1, 2, 3 }\n"
     ]
    }
   ],
   "source": [
    "var k = m1.keys();\n",
    "console.log(k);"
   ]
  },
  {
   "cell_type": "code",
   "execution_count": null,
   "metadata": {},
   "outputs": [],
   "source": []
  }
 ],
 "metadata": {
  "kernelspec": {
   "display_name": "Javascript (Node.js)",
   "language": "javascript",
   "name": "javascript"
  },
  "language_info": {
   "file_extension": ".js",
   "mimetype": "application/javascript",
   "name": "javascript",
   "version": "8.9.4"
  }
 },
 "nbformat": 4,
 "nbformat_minor": 2
}
