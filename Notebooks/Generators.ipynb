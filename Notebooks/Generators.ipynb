{
 "cells": [
  {
   "cell_type": "markdown",
   "metadata": {},
   "source": [
    "# Generators\n",
    "\n",
    "Modern JavaScript now offers the ability to construct generators, which are essentially custom iterator algorithms that can be defined within a single function. Calling this function returns a `Generator` object. When that object performs an operation on a value, the generators `next()` method is called, and the code executes until it reaches the `yield` keyword."
   ]
  },
  {
   "cell_type": "code",
   "execution_count": null,
   "metadata": {},
   "outputs": [],
   "source": [
    "function* genText() {\n",
    "    console.log(\"Run something...\");\n",
    "    yield \"This ran\";\n",
    "    console.log(\"Continue running...\");\n",
    "}\n",
    "\n",
    "var g = genText();\n",
    "\n",
    "console.log(g.next().value);"
   ]
  },
  {
   "cell_type": "markdown",
   "metadata": {},
   "source": [
    "Now we'll call `next()` again."
   ]
  },
  {
   "cell_type": "code",
   "execution_count": null,
   "metadata": {},
   "outputs": [],
   "source": [
    "console.log(g.next().value);"
   ]
  },
  {
   "cell_type": "markdown",
   "metadata": {},
   "source": [
    "A couple of things to notice with this generator function:\n",
    "\n",
    "* We did not have to define a `next()` function in our generator. We get that out-of-the-box.\n",
    "* Execute of the function did not end. It _paused_ on the `yield`, and then picked up where it left off when `next()` is called the second time.\n",
    "* Calling `next()` resumes operation, printing the second `log()` statement, and returning `undefined` since we did not `yield` another value.\n",
    "* The `yield` keyword can return anything--not just a string."
   ]
  },
  {
   "cell_type": "markdown",
   "metadata": {},
   "source": [
    "## Iterators on objects using generators\n",
    "\n",
    "The `Object` type does not have default iterable behavior like an `Array` type does. We can change this by combining a generator function with a dynamic key on an `Object` that takes the `Symbol.iterator`. We're basically combining three new JavaScript features:\n",
    "\n",
    "* Generators\n",
    "* Symbols\n",
    "* Dynamic property keys"
   ]
  },
  {
   "cell_type": "code",
   "execution_count": null,
   "metadata": {},
   "outputs": [],
   "source": [
    "var i = {\n",
    "    items: [1, 2 , 3 , 4 , 5],\n",
    "    *[Symbol.iterator]() {\n",
    "        for (var i = 0; i < this.items.length; i++) {\n",
    "            yield this.items[i] * this.items[i];\n",
    "        }\n",
    "    }\n",
    "}\n",
    "\n",
    "for (var v of i) {\n",
    "    console.log(v);\n",
    "}"
   ]
  },
  {
   "cell_type": "markdown",
   "metadata": {},
   "source": [
    "This object has an array of numbers attached to it as `items`, but for some odd reason, when we iterate over the object, we want it to produce the squares of those numbers. We can do this by using generators, symbols, and the dynamic property key to turn `i` into an iterable object, and when we do a `for...of` on it, it logs the squares."
   ]
  },
  {
   "cell_type": "code",
   "execution_count": null,
   "metadata": {},
   "outputs": [],
   "source": []
  }
 ],
 "metadata": {
  "kernelspec": {
   "display_name": "Javascript (Node.js)",
   "language": "javascript",
   "name": "javascript"
  },
  "language_info": {
   "file_extension": ".js",
   "mimetype": "application/javascript",
   "name": "javascript",
   "version": "10.6.0"
  }
 },
 "nbformat": 4,
 "nbformat_minor": 2
}
