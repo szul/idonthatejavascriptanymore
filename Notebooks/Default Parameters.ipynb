{
 "cells": [
  {
   "cell_type": "markdown",
   "metadata": {},
   "source": [
    "# Default Parameters\n",
    "\n",
    "JavaScript has traditionally been a very flexible language when it comes to parameters. If a function accepts three parameters, but you only send in one, that's acceptable. If a function accepts three parameters, but you send in four, that's also acceptable. This flexibility has, oddly enough, limited it in the past.\n",
    "\n",
    "What if you wanted to set default parameters?"
   ]
  },
  {
   "cell_type": "markdown",
   "metadata": {},
   "source": [
    "## ES5\n",
    "\n",
    "In ES5, to have default parameters, you would have to check for the presence of a parameter within the function itself."
   ]
  },
  {
   "cell_type": "code",
   "execution_count": 1,
   "metadata": {},
   "outputs": [
    {
     "name": "stdout",
     "output_type": "stream",
     "text": [
      "three\n",
      "the third parameter\n"
     ]
    }
   ],
   "source": [
    "function printParam(param1, param2, param3) {\n",
    "    if(param3 === undefined) {\n",
    "        param3 = \"the third parameter\";\n",
    "    }\n",
    "    console.log(param3);\n",
    "}\n",
    "\n",
    "printParam(\"one\", \"two\", \"three\");\n",
    "printParam(\"one\", \"two\");"
   ]
  },
  {
   "cell_type": "markdown",
   "metadata": {},
   "source": [
    "> Remember that your parameter check for `param3` should be against `undefined` and not `null`, since you could pass a third parameter in as `null`. That's not the same as defaulting the parameter."
   ]
  },
  {
   "cell_type": "markdown",
   "metadata": {},
   "source": [
    "## ES6\n",
    "\n",
    "With ES6, you can actually set the default parameter in the function declaraion itself."
   ]
  },
  {
   "cell_type": "code",
   "execution_count": 2,
   "metadata": {},
   "outputs": [
    {
     "name": "stdout",
     "output_type": "stream",
     "text": [
      "three\n",
      "the third parameter\n"
     ]
    }
   ],
   "source": [
    "function printParam(param1, param2, param3 = \"the third parameter\") {\n",
    "    console.log(param3);\n",
    "}\n",
    "\n",
    "printParam(\"one\", \"two\", \"three\");\n",
    "printParam(\"one\", \"two\");"
   ]
  },
  {
   "cell_type": "markdown",
   "metadata": {},
   "source": [
    "This has the same effect as the first function.\n",
    "\n",
    "> Note that you can only set default parameters after all of the non-default parameters are defined. You wouldn't be able to default the middle parameter (`param2`), for example."
   ]
  },
  {
   "cell_type": "code",
   "execution_count": null,
   "metadata": {},
   "outputs": [],
   "source": []
  }
 ],
 "metadata": {
  "kernelspec": {
   "display_name": "Javascript (Node.js)",
   "language": "javascript",
   "name": "javascript"
  },
  "language_info": {
   "file_extension": ".js",
   "mimetype": "application/javascript",
   "name": "javascript",
   "version": "10.6.0"
  }
 },
 "nbformat": 4,
 "nbformat_minor": 2
}
