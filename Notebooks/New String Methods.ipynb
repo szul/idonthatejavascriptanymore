{
 "cells": [
  {
   "cell_type": "markdown",
   "metadata": {},
   "source": [
    "# New(ish) String Methods\n",
    "\n",
    "\\* The \"new\" being a relatively newer collection of methods for string manipulation.\n",
    "\n",
    "## Trim\n",
    "\n",
    "Let's start with something new, but not completely new. Ever have to trim a string in JavaScript? In the past, you probably used a regular expression to trim whitespace from the beginning and end of a string. Maybe you put it into a function. It could look something like this:"
   ]
  },
  {
   "cell_type": "code",
   "execution_count": 6,
   "metadata": {},
   "outputs": [
    {
     "name": "stdout",
     "output_type": "stream",
     "text": [
      "|This has some whitespace.|\n"
     ]
    }
   ],
   "source": [
    "var s = \"   This has some whitespace.   \";\n",
    "var result = s.replace(/^\\s+|\\s+$/g, \"\");\n",
    "console.log(`|${result}|`);"
   ]
  },
  {
   "cell_type": "markdown",
   "metadata": {},
   "source": [
    "Thankfully, JavaScript was updated a while back to now include a `trim()` method on string:"
   ]
  },
  {
   "cell_type": "code",
   "execution_count": 7,
   "metadata": {},
   "outputs": [
    {
     "name": "stdout",
     "output_type": "stream",
     "text": [
      "|This has some whitespace.|\n"
     ]
    }
   ],
   "source": [
    "var s = \"   This has some whitespace.   \";\n",
    "var result = s.trim();\n",
    "console.log(`|${result}|`);"
   ]
  },
  {
   "cell_type": "markdown",
   "metadata": {},
   "source": [
    "## Finding strings in string\n",
    "\n",
    "What about searching within a string for something? For example, you might want to see if a string starts with or ends with a different string. In the past, we could handle this with `slice()`:"
   ]
  },
  {
   "cell_type": "code",
   "execution_count": 8,
   "metadata": {},
   "outputs": [
    {
     "name": "stdout",
     "output_type": "stream",
     "text": [
      "true\n",
      "false\n"
     ]
    }
   ],
   "source": [
    "function startsWith(s, part) {\n",
    "        return s.slice(0, part.length) == part;\n",
    "    }\n",
    "function endsWith(s, part) {\n",
    "        return s.slice(part.length) == part;\n",
    "}\n",
    "\n",
    "var s = \"This is a sentence!\";\n",
    "\n",
    "console.log(startsWith(s, \"This\"));\n",
    "console.log(endsWith(s, \"This\"));"
   ]
  },
  {
   "cell_type": "markdown",
   "metadata": {},
   "source": [
    "Now, JavaScript has built-in string methods for this:"
   ]
  },
  {
   "cell_type": "code",
   "execution_count": 9,
   "metadata": {},
   "outputs": [
    {
     "name": "stdout",
     "output_type": "stream",
     "text": [
      "true\n",
      "false\n"
     ]
    }
   ],
   "source": [
    "console.log(s.startsWith(\"This\"));\n",
    "console.log(s.endsWith(\"This\"));"
   ]
  },
  {
   "cell_type": "markdown",
   "metadata": {},
   "source": [
    "### What about searching inside a string?\n",
    "\n",
    "Sometimes, you want to search inside of a string as well. In the past, you would have to use `indexOf()` using a function similar to the following:"
   ]
  },
  {
   "cell_type": "code",
   "execution_count": 11,
   "metadata": {},
   "outputs": [
    {
     "name": "stdout",
     "output_type": "stream",
     "text": [
      "true\n"
     ]
    }
   ],
   "source": [
    "function contains(s, part) {\n",
    "        if (s.indexOf(part) !== -1) {\n",
    "            return true;\n",
    "        }\n",
    "        return false;\n",
    "}\n",
    "\n",
    "var s = \"This is a sentence!\";\n",
    "\n",
    "console.log(contains(s, \"sen\"));"
   ]
  },
  {
   "cell_type": "markdown",
   "metadata": {},
   "source": [
    "...but now you can do the same thing with the built in `includes()` method:"
   ]
  },
  {
   "cell_type": "code",
   "execution_count": 12,
   "metadata": {},
   "outputs": [
    {
     "name": "stdout",
     "output_type": "stream",
     "text": [
      "true\n"
     ]
    }
   ],
   "source": [
    "console.log(s.includes(\"sen\"));"
   ]
  },
  {
   "cell_type": "markdown",
   "metadata": {},
   "source": [
    "## Put it on repeat\n",
    "\n",
    "Finally, another handy method is the new `repeat()` method, which allows you to repeat a string in succession:"
   ]
  },
  {
   "cell_type": "code",
   "execution_count": 14,
   "metadata": {},
   "outputs": [
    {
     "name": "stdout",
     "output_type": "stream",
     "text": [
      "SuperSuperSuperSuperSuper\n"
     ]
    }
   ],
   "source": [
    "var whatAmI = \"Super\".repeat(5);\n",
    "console.log(whatAmI);"
   ]
  },
  {
   "cell_type": "markdown",
   "metadata": {},
   "source": [
    "If you wanted to do this in the past, you'd either have to loop over a number, while concatenating a string, or you could use the `Array()` function with a number, and then `join()` the array:"
   ]
  },
  {
   "cell_type": "code",
   "execution_count": 15,
   "metadata": {},
   "outputs": [
    {
     "name": "stdout",
     "output_type": "stream",
     "text": [
      "[ <5 empty items> ]\n"
     ]
    }
   ],
   "source": [
    "var a = Array(5);\n",
    "console.log(a);"
   ]
  },
  {
   "cell_type": "code",
   "execution_count": 17,
   "metadata": {},
   "outputs": [
    {
     "name": "stdout",
     "output_type": "stream",
     "text": [
      "SuperSuperSuperSuper\n"
     ]
    }
   ],
   "source": [
    "var result = a.join(\"Super\");\n",
    "console.log(result);"
   ]
  },
  {
   "cell_type": "markdown",
   "metadata": {},
   "source": [
    "> Notice how the result just has 4 \"Super\" strings? This is because `join()` joins the array elements on the interior--meaning 4 areas between 5 array elements. You'd have to \"+1\" the array to get the 5 from the `repeat()` example."
   ]
  },
  {
   "cell_type": "code",
   "execution_count": null,
   "metadata": {},
   "outputs": [],
   "source": []
  }
 ],
 "metadata": {
  "kernelspec": {
   "display_name": "Javascript (Node.js)",
   "language": "javascript",
   "name": "javascript"
  },
  "language_info": {
   "file_extension": ".js",
   "mimetype": "application/javascript",
   "name": "javascript",
   "version": "10.6.0"
  }
 },
 "nbformat": 4,
 "nbformat_minor": 2
}
