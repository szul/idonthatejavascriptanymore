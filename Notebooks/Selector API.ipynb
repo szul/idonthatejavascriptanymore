{
 "cells": [
  {
   "cell_type": "markdown",
   "metadata": {},
   "source": [
    "# Selecting DOM Elements\n",
    "\n",
    "## The early days of JavaScript were harsh."
   ]
  },
  {
   "cell_type": "code",
   "execution_count": 5,
   "metadata": {},
   "outputs": [],
   "source": [
    "var jsdom = require(\"jsdom\");\n",
    "var dom = new jsdom.JSDOM(`\n",
    "        <body>\n",
    "            <div>\n",
    "                <span id='f_name' class='name'>Michael</span><span id='l_name' class='name'>Szul</span>\n",
    "            </div>\n",
    "        </body>`,{ QuerySelector: true });"
   ]
  },
  {
   "cell_type": "code",
   "execution_count": 6,
   "metadata": {},
   "outputs": [
    {
     "name": "stdout",
     "output_type": "stream",
     "text": [
      "HTMLSpanElement {}\n"
     ]
    }
   ],
   "source": [
    "var f_name = dom.window.document.getElementById(\"f_name\");\n",
    "console.log(f_name);"
   ]
  },
  {
   "cell_type": "code",
   "execution_count": 7,
   "metadata": {},
   "outputs": [
    {
     "name": "stdout",
     "output_type": "stream",
     "text": [
      "HTMLCollection { '0': HTMLSpanElement {}, '1': HTMLSpanElement {} }\n"
     ]
    }
   ],
   "source": [
    "var col = dom.window.document.getElementsByTagName(\"span\");\n",
    "console.log(col);"
   ]
  },
  {
   "cell_type": "code",
   "execution_count": 8,
   "metadata": {},
   "outputs": [
    {
     "name": "stdout",
     "output_type": "stream",
     "text": [
      "HTMLSpanElement {}\n",
      "HTMLSpanElement {}\n"
     ]
    }
   ],
   "source": [
    "for(var i = 0; i < col.length; i++) {\n",
    "    console.log(col[i]);\n",
    "}"
   ]
  },
  {
   "cell_type": "code",
   "execution_count": 9,
   "metadata": {},
   "outputs": [
    {
     "name": "stdout",
     "output_type": "stream",
     "text": [
      "HTMLCollection { '0': HTMLDivElement {} }\n"
     ]
    }
   ],
   "source": [
    "var div = dom.window.document.getElementsByTagName(\"div\");\n",
    "console.log(div);"
   ]
  },
  {
   "cell_type": "code",
   "execution_count": 10,
   "metadata": {},
   "outputs": [
    {
     "name": "stdout",
     "output_type": "stream",
     "text": [
      "HTMLCollection { '0': HTMLSpanElement {}, '1': HTMLSpanElement {} }\n"
     ]
    }
   ],
   "source": [
    "console.log(div[0].children);"
   ]
  },
  {
   "cell_type": "markdown",
   "metadata": {},
   "source": [
    "> Another method `getElementsByClassName()` exists, but wasn't supported in IE until IE9, so it is relative new--all things considered."
   ]
  },
  {
   "cell_type": "markdown",
   "metadata": {},
   "source": [
    "## jQuery made things easier"
   ]
  },
  {
   "cell_type": "code",
   "execution_count": 11,
   "metadata": {},
   "outputs": [],
   "source": [
    "var $ = require('jquery')(dom.window);"
   ]
  },
  {
   "cell_type": "code",
   "execution_count": 12,
   "metadata": {},
   "outputs": [
    {
     "name": "stdout",
     "output_type": "stream",
     "text": [
      "jQuery { '0': HTMLSpanElement {}, length: 1 }\n"
     ]
    }
   ],
   "source": [
    "var f_name = $(\"#f_name\");\n",
    "console.log(f_name);"
   ]
  },
  {
   "cell_type": "code",
   "execution_count": 13,
   "metadata": {},
   "outputs": [
    {
     "name": "stdout",
     "output_type": "stream",
     "text": [
      "jQuery {\n",
      "  '0': HTMLSpanElement {},\n",
      "  '1': HTMLSpanElement {},\n",
      "  length: 2,\n",
      "  prevObject: \n",
      "   jQuery {\n",
      "     '0': \n",
      "      Document {\n",
      "        location: [Getter/Setter],\n",
      "        [Symbol(SameObject caches)]: [Object] },\n",
      "     length: 1 } }\n"
     ]
    }
   ],
   "source": [
    "var spans = $(\"span\");\n",
    "console.log(spans);"
   ]
  },
  {
   "cell_type": "markdown",
   "metadata": {},
   "source": [
    "### Actually cascading selections"
   ]
  },
  {
   "cell_type": "code",
   "execution_count": 14,
   "metadata": {},
   "outputs": [
    {
     "name": "stdout",
     "output_type": "stream",
     "text": [
      "jQuery {\n",
      "  '0': HTMLSpanElement {},\n",
      "  '1': HTMLSpanElement {},\n",
      "  length: 2,\n",
      "  prevObject: \n",
      "   jQuery {\n",
      "     '0': \n",
      "      Document {\n",
      "        location: [Getter/Setter],\n",
      "        [Symbol(SameObject caches)]: [Object] },\n",
      "     length: 1 } }\n"
     ]
    }
   ],
   "source": [
    "var spans = $(\"body div span\");\n",
    "console.log(spans);"
   ]
  },
  {
   "cell_type": "code",
   "execution_count": 15,
   "metadata": {},
   "outputs": [
    {
     "name": "stdout",
     "output_type": "stream",
     "text": [
      "jQuery {\n",
      "  '0': HTMLSpanElement {},\n",
      "  '1': HTMLSpanElement {},\n",
      "  length: 2,\n",
      "  prevObject: \n",
      "   jQuery {\n",
      "     '0': \n",
      "      Document {\n",
      "        location: [Getter/Setter],\n",
      "        [Symbol(SameObject caches)]: [Object] },\n",
      "     length: 1 } }\n"
     ]
    }
   ],
   "source": [
    "var spans = $(\"body > div > span\");\n",
    "console.log(spans);"
   ]
  },
  {
   "cell_type": "code",
   "execution_count": 16,
   "metadata": {},
   "outputs": [
    {
     "name": "stdout",
     "output_type": "stream",
     "text": [
      "jQuery {\n",
      "  '0': HTMLSpanElement {},\n",
      "  '1': HTMLSpanElement {},\n",
      "  length: 2,\n",
      "  prevObject: \n",
      "   jQuery {\n",
      "     '0': \n",
      "      Document {\n",
      "        location: [Getter/Setter],\n",
      "        [Symbol(SameObject caches)]: [Object] },\n",
      "     length: 1 } }\n"
     ]
    }
   ],
   "source": [
    "var spans = $(\"body div .name\");\n",
    "console.log(spans);"
   ]
  },
  {
   "cell_type": "markdown",
   "metadata": {},
   "source": [
    "> Of course, jQuery also introduced an `each()` method that helped with DOM traversal long before JavaScript adopted similar functionality."
   ]
  },
  {
   "cell_type": "markdown",
   "metadata": {},
   "source": [
    "## But you don't need jQuery anymore\n",
    "\n",
    "With the modern JavaScript APIs, you can use the Selector API to select DOM elements in the same manner that you would using jQuery."
   ]
  },
  {
   "cell_type": "markdown",
   "metadata": {},
   "source": [
    "### Select one"
   ]
  },
  {
   "cell_type": "code",
   "execution_count": 17,
   "metadata": {},
   "outputs": [
    {
     "name": "stdout",
     "output_type": "stream",
     "text": [
      "HTMLSpanElement {}\n"
     ]
    }
   ],
   "source": [
    "var spans = dom.window.document.querySelector(\".name\");\n",
    "console.log(spans);"
   ]
  },
  {
   "cell_type": "markdown",
   "metadata": {},
   "source": [
    "### Select all"
   ]
  },
  {
   "cell_type": "code",
   "execution_count": 18,
   "metadata": {},
   "outputs": [
    {
     "name": "stdout",
     "output_type": "stream",
     "text": [
      "NodeList { '0': HTMLSpanElement {}, '1': HTMLSpanElement {} }\n"
     ]
    }
   ],
   "source": [
    "var spans = dom.window.document.querySelectorAll(\".name\");\n",
    "console.log(spans);"
   ]
  },
  {
   "cell_type": "markdown",
   "metadata": {},
   "source": [
    "> Notice that `getElementsByTagName()` returns an `HTMLCollection`, while `querySelectorAll()` returns a `NodeList`."
   ]
  },
  {
   "cell_type": "code",
   "execution_count": null,
   "metadata": {},
   "outputs": [],
   "source": []
  }
 ],
 "metadata": {
  "kernelspec": {
   "display_name": "Javascript (Node.js)",
   "language": "javascript",
   "name": "javascript"
  },
  "language_info": {
   "file_extension": ".js",
   "mimetype": "application/javascript",
   "name": "javascript",
   "version": "8.9.4"
  }
 },
 "nbformat": 4,
 "nbformat_minor": 2
}
