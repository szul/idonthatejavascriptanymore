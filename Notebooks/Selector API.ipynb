{
 "cells": [
  {
   "cell_type": "markdown",
   "metadata": {},
   "source": [
    "# Selecting DOM Elements\n",
    "\n",
    "## The early days of JavaScript were harsh."
   ]
  },
  {
   "cell_type": "code",
   "execution_count": null,
   "metadata": {},
   "outputs": [],
   "source": [
    "var jsdom = require(\"jsdom\");\n",
    "var dom = new jsdom.JSDOM(`\n",
    "        <body>\n",
    "            <div>\n",
    "                <span id='f_name' class='name'>Michael</span><span id='l_name' class='name'>Szul</span>\n",
    "            </div>\n",
    "        </body>`,{ QuerySelector: true });"
   ]
  },
  {
   "cell_type": "code",
   "execution_count": null,
   "metadata": {},
   "outputs": [],
   "source": [
    "var f_name = dom.window.document.getElementById(\"f_name\");\n",
    "console.log(f_name);"
   ]
  },
  {
   "cell_type": "code",
   "execution_count": null,
   "metadata": {},
   "outputs": [],
   "source": [
    "var col = dom.window.document.getElementsByTagName(\"span\");\n",
    "console.log(col);"
   ]
  },
  {
   "cell_type": "code",
   "execution_count": null,
   "metadata": {},
   "outputs": [],
   "source": [
    "for(var i = 0; i < col.length; i++) {\n",
    "    console.log(col[i]);\n",
    "}"
   ]
  },
  {
   "cell_type": "code",
   "execution_count": null,
   "metadata": {},
   "outputs": [],
   "source": [
    "var div = dom.window.document.getElementsByTagName(\"div\");\n",
    "console.log(div);"
   ]
  },
  {
   "cell_type": "code",
   "execution_count": null,
   "metadata": {},
   "outputs": [],
   "source": [
    "console.log(div[0].children);"
   ]
  },
  {
   "cell_type": "markdown",
   "metadata": {},
   "source": [
    "> Another method `getElementsByClassName()` exists, but wasn't supported in IE until IE9, so it is relative new--all things considered."
   ]
  },
  {
   "cell_type": "markdown",
   "metadata": {},
   "source": [
    "## jQuery made things easier"
   ]
  },
  {
   "cell_type": "code",
   "execution_count": null,
   "metadata": {},
   "outputs": [],
   "source": [
    "var $ = require('jquery')(dom.window);"
   ]
  },
  {
   "cell_type": "code",
   "execution_count": null,
   "metadata": {},
   "outputs": [],
   "source": [
    "var f_name = $(\"#f_name\");\n",
    "console.log(f_name);"
   ]
  },
  {
   "cell_type": "code",
   "execution_count": null,
   "metadata": {},
   "outputs": [],
   "source": [
    "var spans = $(\"span\");\n",
    "console.log(spans);"
   ]
  },
  {
   "cell_type": "markdown",
   "metadata": {},
   "source": [
    "### Actually cascading selections"
   ]
  },
  {
   "cell_type": "code",
   "execution_count": null,
   "metadata": {},
   "outputs": [],
   "source": [
    "var spans = $(\"body div span\");\n",
    "console.log(spans);"
   ]
  },
  {
   "cell_type": "code",
   "execution_count": null,
   "metadata": {},
   "outputs": [],
   "source": [
    "var spans = $(\"body > div > span\");\n",
    "console.log(spans);"
   ]
  },
  {
   "cell_type": "code",
   "execution_count": null,
   "metadata": {},
   "outputs": [],
   "source": [
    "var spans = $(\"body div .name\");\n",
    "console.log(spans);"
   ]
  },
  {
   "cell_type": "markdown",
   "metadata": {},
   "source": [
    "> Of course, jQuery also introduced an `each()` method that helped with DOM traversal long before JavaScript adopted similar functionality."
   ]
  },
  {
   "cell_type": "markdown",
   "metadata": {},
   "source": [
    "## But you don't need jQuery anymore\n",
    "\n",
    "With the modern JavaScript APIs, you can use the Selector API to select DOM elements in the same manner that you would using jQuery."
   ]
  },
  {
   "cell_type": "markdown",
   "metadata": {},
   "source": [
    "### Select one"
   ]
  },
  {
   "cell_type": "code",
   "execution_count": null,
   "metadata": {},
   "outputs": [],
   "source": [
    "var spans = dom.window.document.querySelector(\".name\");\n",
    "console.log(spans);"
   ]
  },
  {
   "cell_type": "markdown",
   "metadata": {},
   "source": [
    "### Select all"
   ]
  },
  {
   "cell_type": "code",
   "execution_count": null,
   "metadata": {},
   "outputs": [],
   "source": [
    "var spans = dom.window.document.querySelectorAll(\".name\");\n",
    "console.log(spans);"
   ]
  },
  {
   "cell_type": "markdown",
   "metadata": {},
   "source": [
    "> Notice that `getElementsByTagName()` returns an `HTMLCollection`, while `querySelectorAll()` returns a `NodeList`."
   ]
  },
  {
   "cell_type": "code",
   "execution_count": null,
   "metadata": {},
   "outputs": [],
   "source": []
  }
 ],
 "metadata": {
  "kernelspec": {
   "display_name": "Javascript (Node.js)",
   "language": "javascript",
   "name": "javascript"
  },
  "language_info": {
   "file_extension": ".js",
   "mimetype": "application/javascript",
   "name": "javascript",
   "version": "10.6.0"
  }
 },
 "nbformat": 4,
 "nbformat_minor": 2
}
