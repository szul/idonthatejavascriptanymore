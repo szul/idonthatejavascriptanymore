{
 "cells": [
  {
   "cell_type": "markdown",
   "metadata": {},
   "source": [
    "# New Number Methods\n",
    "\n",
    "Math has always been a little difficult to maneuver in JavaScript because of the flexibility of variable types. I remember having difficulty in the early 2000's with the way 8 and 10 were handled while doing comparisons. In particular, they were being compared as string despite being numbers, and this comparison was tripping only on 8 and 10. In order to solve for it, I had to use:\n",
    "\n",
    "```javascript\n",
    "parseInt(8, 10);\n",
    "```\n",
    "\n",
    "or\n",
    "```javascript\n",
    "parseInt(10, 10);\n",
    "```\n",
    "\n",
    "...forcing the radix.\n",
    "\n",
    "This doesn't mean that you can't do powerful math in JavaScript. In fact, a few upcoming notebooks will show just how powerful JavaScript can be.\n",
    "\n",
    "But luckily, JavaScript's management of numbers has improved over the years as well, and we'll look at a few additional methods here.\n",
    "\n",
    "## Not a number\n",
    "\n",
    "Most are familiar with `NaN` and the `isNaN()` global function. In modern JavaScript, we now have `Number.isNaN()` to correct some of the past issues with `isNaN()`.\n",
    "\n",
    "From MDN:\n",
    "\n",
    "> Due to both equality operators, `==` and `===`, evaluating to `false` when checking if `NaN` is `NaN`, the function `Number.isNaN()` has become necessary. This situation is unlike all other possible value comparisons in JavaScript.\n",
    "\n",
    "> In comparison to the global `isNaN()` function, `Number.isNaN()` doesn't suffer the problem of forcefully converting the parameter to a number. This means it is now safe to pass values that would normally convert to `NaN`, but aren't actually the same value as `NaN`. This also means that only values of the type `number`, that are also `NaN`, return `true`."
   ]
  },
  {
   "cell_type": "code",
   "execution_count": null,
   "metadata": {},
   "outputs": [],
   "source": [
    "var n = 23;\n",
    "console.log(Number.isNaN(n));\n",
    "\n",
    "var x = \"23\"\n",
    "console.log(Number.isNaN(x));\n",
    "\n",
    "var y = \"Not a Number\";\n",
    "console.log(Number.isNaN(y));"
   ]
  },
  {
   "cell_type": "markdown",
   "metadata": {},
   "source": [
    "That's weird, right? What `Number.isNaN()` is checking is whether the type is a `Number` and the value is `NaN`, so all of the above are false. This is different than the global `isNaN()`."
   ]
  },
  {
   "cell_type": "code",
   "execution_count": null,
   "metadata": {},
   "outputs": [],
   "source": [
    "var n = 23;\n",
    "console.log(isNaN(n));\n",
    "\n",
    "var x = \"23\"\n",
    "console.log(isNaN(x));\n",
    "\n",
    "var y = \"Not a Number\";\n",
    "console.log(isNaN(y));"
   ]
  },
  {
   "cell_type": "markdown",
   "metadata": {},
   "source": [
    "When does `Number.isNaN()` evaluation to true? When it's `NaN`:"
   ]
  },
  {
   "cell_type": "code",
   "execution_count": null,
   "metadata": {},
   "outputs": [],
   "source": [
    "console.log(Number.isNaN(NaN));"
   ]
  },
  {
   "cell_type": "code",
   "execution_count": null,
   "metadata": {},
   "outputs": [],
   "source": [
    "console.log(Number.isNaN(0 / 0));"
   ]
  },
  {
   "cell_type": "markdown",
   "metadata": {},
   "source": [
    "## Number truncation\n",
    "\n",
    "Most are familiar with `Math.round()`, `Math.ceil()`, and `Math.floor()`, but with modern JavaScript, we also have the ability to simply truncate a number, removing everything after the decimal point:"
   ]
  },
  {
   "cell_type": "code",
   "execution_count": null,
   "metadata": {},
   "outputs": [],
   "source": [
    "var n = 12.34567\n",
    "console.log(Math.trunc(n));"
   ]
  },
  {
   "cell_type": "markdown",
   "metadata": {},
   "source": [
    "## More?\n",
    "\n",
    "There are a handful of other number methods and constants that cover specific cases, mostly needed for mathematical purposes. We won't cover them here, but will cover them in other notebooks that are specifically geared towards math programming in JavaScript. Some of these include:\n",
    "\n",
    "* `Number.isSafeInteger()`\n",
    "* `Number.isFinite()`\n",
    "* `Number.EPSILON`"
   ]
  },
  {
   "cell_type": "code",
   "execution_count": null,
   "metadata": {},
   "outputs": [],
   "source": []
  }
 ],
 "metadata": {
  "kernelspec": {
   "display_name": "Javascript (Node.js)",
   "language": "javascript",
   "name": "javascript"
  },
  "language_info": {
   "file_extension": ".js",
   "mimetype": "application/javascript",
   "name": "javascript",
   "version": "10.6.0"
  }
 },
 "nbformat": 4,
 "nbformat_minor": 2
}
