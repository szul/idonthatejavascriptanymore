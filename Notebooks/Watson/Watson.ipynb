{
 "cells": [
  {
   "cell_type": "code",
   "execution_count": 28,
   "metadata": {},
   "outputs": [
    {
     "name": "stdout",
     "output_type": "stream",
     "text": [
      "Adding credentials to the environment...\n"
     ]
    }
   ],
   "source": [
    "var { config } = require(\"dotenv\");\n",
    "\n",
    "config();\n",
    "\n",
    "console.log(\"Adding credentials to the environment...\");"
   ]
  },
  {
   "cell_type": "code",
   "execution_count": 36,
   "metadata": {},
   "outputs": [],
   "source": [
    "var nlup = require(\"watson-developer-cloud/natural-language-understanding/v1.js\");\n",
    "var nlu = new nlup({\n",
    "    version: \"2018-11-16\",\n",
    "    iam_apikey: process.env.WATSON_API_KEY,\n",
    "    url: process.env.WATSON_ENDPOINT\n",
    "});"
   ]
  },
  {
   "cell_type": "code",
   "execution_count": 37,
   "metadata": {},
   "outputs": [],
   "source": [
    "var request = require(\"request-promise\");"
   ]
  },
  {
   "cell_type": "code",
   "execution_count": 42,
   "metadata": {
    "scrolled": false
   },
   "outputs": [
    {
     "name": "stdout",
     "output_type": "stream",
     "text": [
      "Finished NLU request...\n",
      "\n",
      "\n",
      "{ usage: { text_units: 1, text_characters: 8132, features: 2 },\n",
      "  language: 'en',\n",
      "  keywords:\n",
      "   [ { text: 'data points', relevance: 0.678901, count: 1 },\n",
      "     { text: 'CEO of Tiber Solutions', relevance: 0.651059, count: 1 },\n",
      "     { text: 'software industry', relevance: 0.618903, count: 1 },\n",
      "     { text: 'custom vs.', relevance: 0.578216, count: 1 },\n",
      "     { text: 'programmer\\'s years', relevance: 0.574701, count: 1 },\n",
      "     { text: 'data tracing', relevance: 0.573553, count: 1 },\n",
      "     { text: 'Jim Hadley', relevance: 0.572043, count: 1 },\n",
      "     { text: 'budget year', relevance: 0.562677, count: 1 },\n",
      "     { text: 'Fred Brooks', relevance: 0.56015, count: 1 },\n",
      "     { text: 'viable business', relevance: 0.554144, count: 1 },\n",
      "     { text: 'Mythical Man-Month', relevance: 0.543642, count: 1 },\n",
      "     { text: 'local organizations', relevance: 0.542809, count: 1 },\n",
      "     { text: 'Swiss army knife', relevance: 0.54275, count: 1 },\n",
      "     { text: 'hungry programmers', relevance: 0.54213, count: 1 },\n",
      "     { text: 'technical resources place data cleaning',\n",
      "       relevance: 0.541107,\n",
      "       count: 1 },\n",
      "     { text: 'custom', relevance: 0.538749, count: 7 },\n",
      "     { text: 'key points', relevance: 0.536867, count: 1 },\n",
      "     { text: 'shelf solution', relevance: 0.536094, count: 1 },\n",
      "     { text: 'desktop application', relevance: 0.534501, count: 1 },\n",
      "     { text: 'upfront investment', relevance: 0.531945, count: 1 },\n",
      "     { text: 'bad data', relevance: 0.529874, count: 2 },\n",
      "     { text: 'additional resources', relevance: 0.529845, count: 1 },\n",
      "     { text: 'custom software', relevance: 0.52924, count: 4 },\n",
      "     { text: 'decision-makers', relevance: 0.528865, count: 1 },\n",
      "     { text: 'software engineers', relevance: 0.528796, count: 1 },\n",
      "     { text: 'larger corporations', relevance: 0.528528, count: 1 },\n",
      "     { text: 'technical business analysis',\n",
      "       relevance: 0.527949,\n",
      "       count: 2 },\n",
      "     { text: 'Data management', relevance: 0.52783, count: 1 },\n",
      "     { text: 'major reasons', relevance: 0.527208, count: 1 },\n",
      "     { text: 'custom solutions', relevance: 0.526591, count: 2 },\n",
      "     { text: 'larger audience', relevance: 0.526159, count: 1 },\n",
      "     { text: 'better quality', relevance: 0.525986, count: 1 },\n",
      "     { text: 'data scientist\\'s time', relevance: 0.525913, count: 1 },\n",
      "     { text: 'Recent surveys', relevance: 0.524603, count: 1 },\n",
      "     { text: 'report writers', relevance: 0.524299, count: 1 },\n",
      "     { text: 'transactional software', relevance: 0.523421, count: 2 },\n",
      "     { text: 'true value of custom solutions',\n",
      "       relevance: 0.522468,\n",
      "       count: 1 },\n",
      "     { text: 'shelf solutions', relevance: 0.522293, count: 1 },\n",
      "     { text: 'information technology', relevance: 0.521757, count: 1 },\n",
      "     { text: 'enterprise architecture',\n",
      "       relevance: 0.521751,\n",
      "       count: 1 },\n",
      "     { text: 'strategic planning', relevance: 0.521429, count: 1 },\n",
      "     { text: 'Software Engineering', relevance: 0.52115, count: 1 },\n",
      "     { text: 'presentations', relevance: 0.520657, count: 1 },\n",
      "     { text: 'long-term thinking', relevance: 0.520091, count: 1 },\n",
      "     { text: 'administrative support', relevance: 0.519808, count: 1 },\n",
      "     { text: 'bane of any data science',\n",
      "       relevance: 0.519689,\n",
      "       count: 1 },\n",
      "     { text: 'Microsoft technology', relevance: 0.519644, count: 1 },\n",
      "     { text: 'analytics end', relevance: 0.519097, count: 1 },\n",
      "     { text: 'high quality talk', relevance: 0.518258, count: 1 },\n",
      "     { text: 'forms of data architecture',\n",
      "       relevance: 0.518062,\n",
      "       count: 1 } ],\n",
      "  concepts:\n",
      "   [ { text: 'Data management',\n",
      "       relevance: 0.975076,\n",
      "       dbpedia_resource: 'http://dbpedia.org/resource/Data_management' },\n",
      "     { text: 'Business intelligence',\n",
      "       relevance: 0.933124,\n",
      "       dbpedia_resource: 'http://dbpedia.org/resource/Business_intelligence' },\n",
      "     { text: 'Data',\n",
      "       relevance: 0.602471,\n",
      "       dbpedia_resource: 'http://dbpedia.org/resource/Data' },\n",
      "     { text: 'Data warehouse',\n",
      "       relevance: 0.5812,\n",
      "       dbpedia_resource: 'http://dbpedia.org/resource/Data_warehouse' },\n",
      "     { text: 'Fred Brooks',\n",
      "       relevance: 0.579826,\n",
      "       dbpedia_resource: 'http://dbpedia.org/resource/Fred_Brooks' },\n",
      "     { text: 'Data analysis',\n",
      "       relevance: 0.564615,\n",
      "       dbpedia_resource: 'http://dbpedia.org/resource/Data_analysis' },\n",
      "     { text: 'Computer',\n",
      "       relevance: 0.508786,\n",
      "       dbpedia_resource: 'http://dbpedia.org/resource/Computer' },\n",
      "     { text: 'Software engineering',\n",
      "       relevance: 0.494674,\n",
      "       dbpedia_resource: 'http://dbpedia.org/resource/Software_engineering' } ] }\n"
     ]
    }
   ],
   "source": [
    "var opts = {\n",
    "    uri: \"https://codepunk.io/its-not-about-custom-applications-its-about-clean-data/\",\n",
    "    headers: {\n",
    "        \"User-Agent\": \"Request-Promise\"\n",
    "    }\n",
    "};\n",
    "\n",
    "request(opts).then((r) => {\n",
    "    var o = {\n",
    "        html: r,\n",
    "        features: {\n",
    "            concepts: {},\n",
    "            keywords: {}\n",
    "        }\n",
    "    };\n",
    "    nlu.analyze(o, (err, res) => {\n",
    "        if(err) {\n",
    "            console.log(`Failed to parse: ${err}`);\n",
    "            return;\n",
    "        }\n",
    "        console.log(res);\n",
    "    });\n",
    "}).catch((e) => {\n",
    "    console.log(`Failed to get request: ${e}`);\n",
    "});\n",
    "\n",
    "console.log(\"Finished NLU request...\\n\\n\");"
   ]
  },
  {
   "cell_type": "code",
   "execution_count": null,
   "metadata": {},
   "outputs": [],
   "source": []
  }
 ],
 "metadata": {
  "kernelspec": {
   "display_name": "Javascript (Node.js)",
   "language": "javascript",
   "name": "javascript"
  },
  "language_info": {
   "file_extension": ".js",
   "mimetype": "application/javascript",
   "name": "javascript",
   "version": "10.6.0"
  }
 },
 "nbformat": 4,
 "nbformat_minor": 2
}
