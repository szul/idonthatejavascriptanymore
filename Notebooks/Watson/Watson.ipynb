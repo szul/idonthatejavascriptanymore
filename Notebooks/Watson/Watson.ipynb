{
 "cells": [
  {
   "cell_type": "code",
   "execution_count": 9,
   "metadata": {},
   "outputs": [
    {
     "name": "stdout",
     "output_type": "stream",
     "text": [
      "Adding credentials to the environment...\n"
     ]
    }
   ],
   "source": [
    "var { config } = require(\"dotenv\");\n",
    "\n",
    "config();\n",
    "\n",
    "console.log(\"Adding credentials to the environment...\");"
   ]
  },
  {
   "cell_type": "code",
   "execution_count": 10,
   "metadata": {},
   "outputs": [],
   "source": [
    "var nlup = require(\"watson-developer-cloud/natural-language-understanding/v1.js\");\n",
    "var nlu = new nlup({\n",
    "    version: \"2018-11-16\",\n",
    "    iam_apikey: process.env.WATSON_API_KEY,\n",
    "    url: process.env.WATSON_ENDPOINT\n",
    "});"
   ]
  },
  {
   "cell_type": "code",
   "execution_count": 11,
   "metadata": {},
   "outputs": [],
   "source": [
    "var request = require(\"request-promise\");"
   ]
  },
  {
   "cell_type": "code",
   "execution_count": 12,
   "metadata": {
    "scrolled": false
   },
   "outputs": [
    {
     "name": "stdout",
     "output_type": "stream",
     "text": [
      "Finished NLU request...\n",
      "\n",
      "\n",
      "{ usage: { text_units: 1, text_characters: 8132, features: 2 },\n",
      "  language: 'en',\n",
      "  keywords: \n",
      "   [ { text: 'data points', relevance: 0.677582, count: 1 },\n",
      "     { text: 'CEO of Tiber Solutions', relevance: 0.651195, count: 1 },\n",
      "     { text: 'software industry', relevance: 0.621369, count: 1 },\n",
      "     { text: 'custom solutions', relevance: 0.579816, count: 2 },\n",
      "     { text: 'programmer\\'s years', relevance: 0.574266, count: 1 },\n",
      "     { text: 'data tracing', relevance: 0.572494, count: 1 },\n",
      "     { text: 'Jim Hadley', relevance: 0.571409, count: 1 },\n",
      "     { text: 'budget year', relevance: 0.562587, count: 1 },\n",
      "     { text: 'Fred Brooks', relevance: 0.559711, count: 1 },\n",
      "     { text: 'custom software', relevance: 0.556596, count: 4 },\n",
      "     { text: 'viable business', relevance: 0.553564, count: 1 },\n",
      "     { text: 'Mythical Man-Month', relevance: 0.54379, count: 1 },\n",
      "     { text: 'local organizations', relevance: 0.542991, count: 1 },\n",
      "     { text: 'Swiss army knife', relevance: 0.542551, count: 1 },\n",
      "     { text: 'hungry programmers', relevance: 0.541813, count: 1 },\n",
      "     { text: 'technical resources place data cleaning',\n",
      "       relevance: 0.540344,\n",
      "       count: 1 },\n",
      "     { text: 'custom', relevance: 0.538797, count: 2 },\n",
      "     { text: 'desktop application', relevance: 0.536803, count: 1 },\n",
      "     { text: 'shelf solution', relevance: 0.535919, count: 1 },\n",
      "     { text: 'custom configuration', relevance: 0.533996, count: 1 },\n",
      "     { text: 'low-key', relevance: 0.533069, count: 1 },\n",
      "     { text: 'upfront investment', relevance: 0.531398, count: 1 },\n",
      "     { text: 'key points', relevance: 0.530273, count: 1 },\n",
      "     { text: 'additional resources', relevance: 0.529341, count: 1 },\n",
      "     { text: 'software engineers', relevance: 0.529308, count: 1 },\n",
      "     { text: 'bad data', relevance: 0.52914, count: 2 },\n",
      "     { text: 'Data management', relevance: 0.527734, count: 1 },\n",
      "     { text: 'custom applications', relevance: 0.527635, count: 2 },\n",
      "     { text: 'decision-makers', relevance: 0.527151, count: 1 },\n",
      "     { text: 'larger corporations', relevance: 0.527122, count: 1 },\n",
      "     { text: 'true value of custom solutions',\n",
      "       relevance: 0.526987,\n",
      "       count: 1 },\n",
      "     { text: 'technical business analysis',\n",
      "       relevance: 0.526968,\n",
      "       count: 2 },\n",
      "     { text: 'Custom transactional software',\n",
      "       relevance: 0.526795,\n",
      "       count: 2 },\n",
      "     { text: 'major reasons', relevance: 0.526133, count: 1 },\n",
      "     { text: 'larger audience', relevance: 0.525673, count: 1 },\n",
      "     { text: 'better quality', relevance: 0.525453, count: 1 },\n",
      "     { text: 'data scientist\\'s time', relevance: 0.525298, count: 1 },\n",
      "     { text: 'Recent surveys', relevance: 0.524526, count: 1 },\n",
      "     { text: 'Microsoft technology', relevance: 0.524399, count: 1 },\n",
      "     { text: 'information technology', relevance: 0.524191, count: 1 },\n",
      "     { text: 'report writers', relevance: 0.523239, count: 1 },\n",
      "     { text: 'shelf solutions', relevance: 0.52208, count: 1 },\n",
      "     { text: 'enterprise architecture',\n",
      "       relevance: 0.521637,\n",
      "       count: 1 },\n",
      "     { text: 'strategic planning', relevance: 0.521308, count: 1 },\n",
      "     { text: 'Software Engineering', relevance: 0.521228, count: 1 },\n",
      "     { text: 'presentations', relevance: 0.520614, count: 1 },\n",
      "     { text: 'administrative support', relevance: 0.519719, count: 1 },\n",
      "     { text: 'long-term thinking', relevance: 0.519612, count: 1 },\n",
      "     { text: 'bane of any data science',\n",
      "       relevance: 0.519057,\n",
      "       count: 1 },\n",
      "     { text: 'high quality talk', relevance: 0.518216, count: 1 } ],\n",
      "  concepts: \n",
      "   [ { text: 'Data management',\n",
      "       relevance: 0.975076,\n",
      "       dbpedia_resource: 'http://dbpedia.org/resource/Data_management' },\n",
      "     { text: 'Business intelligence',\n",
      "       relevance: 0.933124,\n",
      "       dbpedia_resource: 'http://dbpedia.org/resource/Business_intelligence' },\n",
      "     { text: 'Data',\n",
      "       relevance: 0.602471,\n",
      "       dbpedia_resource: 'http://dbpedia.org/resource/Data' },\n",
      "     { text: 'Data warehouse',\n",
      "       relevance: 0.5812,\n",
      "       dbpedia_resource: 'http://dbpedia.org/resource/Data_warehouse' },\n",
      "     { text: 'Fred Brooks',\n",
      "       relevance: 0.579826,\n",
      "       dbpedia_resource: 'http://dbpedia.org/resource/Fred_Brooks' },\n",
      "     { text: 'Data analysis',\n",
      "       relevance: 0.564615,\n",
      "       dbpedia_resource: 'http://dbpedia.org/resource/Data_analysis' },\n",
      "     { text: 'Computer',\n",
      "       relevance: 0.508786,\n",
      "       dbpedia_resource: 'http://dbpedia.org/resource/Computer' },\n",
      "     { text: 'Software engineering',\n",
      "       relevance: 0.494674,\n",
      "       dbpedia_resource: 'http://dbpedia.org/resource/Software_engineering' } ] }\n"
     ]
    }
   ],
   "source": [
    "var opts = {\n",
    "    uri: \"https://codepunk.io/its-not-about-custom-applications-its-about-clean-data/\",\n",
    "    headers: {\n",
    "        \"User-Agent\": \"Request-Promise\"\n",
    "    }\n",
    "};\n",
    "\n",
    "request(opts).then((r) => {\n",
    "    var o = {\n",
    "        html: r,\n",
    "        features: {\n",
    "            concepts: {},\n",
    "            keywords: {}\n",
    "        }\n",
    "    };\n",
    "    nlu.analyze(o, (err, res) => {\n",
    "        if(err) {\n",
    "            console.log(`Failed to parse: ${err}`);\n",
    "            return;\n",
    "        }\n",
    "        console.log(res);\n",
    "    });\n",
    "}).catch((e) => {\n",
    "    console.log(`Failed to get request: ${e}`);\n",
    "});\n",
    "\n",
    "console.log(\"Finished NLU request...\\n\\n\");"
   ]
  },
  {
   "cell_type": "code",
   "execution_count": null,
   "metadata": {},
   "outputs": [],
   "source": []
  }
 ],
 "metadata": {
  "kernelspec": {
   "display_name": "Javascript (Node.js)",
   "language": "javascript",
   "name": "javascript"
  },
  "language_info": {
   "file_extension": ".js",
   "mimetype": "application/javascript",
   "name": "javascript",
   "version": "8.9.4"
  }
 },
 "nbformat": 4,
 "nbformat_minor": 2
}
