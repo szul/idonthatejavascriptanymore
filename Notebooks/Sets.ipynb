{
 "cells": [
  {
   "cell_type": "markdown",
   "metadata": {},
   "source": [
    "# Sets\n",
    "\n",
    "JavaScript has extended it native objects to included a few newer ones meant to enhance development for specific algorithmic needs. One of these objects is the `Set` object, which allows you to store unique values."
   ]
  },
  {
   "cell_type": "code",
   "execution_count": null,
   "metadata": {
    "scrolled": true
   },
   "outputs": [],
   "source": [
    "var a = ['a', 'b', 'b', 'b', 'c'];\n",
    "var s = new Set(a);\n",
    "console.log(s);"
   ]
  },
  {
   "cell_type": "markdown",
   "metadata": {},
   "source": [
    "We can then check whether or not the set has certain values."
   ]
  },
  {
   "cell_type": "code",
   "execution_count": null,
   "metadata": {},
   "outputs": [],
   "source": [
    "var b = s.has('a');\n",
    "console.log(b);"
   ]
  },
  {
   "cell_type": "markdown",
   "metadata": {},
   "source": [
    "To check the number of items in a set, `length` won't work, so we need to use `size` instead."
   ]
  },
  {
   "cell_type": "code",
   "execution_count": null,
   "metadata": {},
   "outputs": [],
   "source": [
    "console.log(s.length);\n",
    "console.log(s.size);"
   ]
  },
  {
   "cell_type": "markdown",
   "metadata": {},
   "source": [
    "## Managing Sets\n",
    "\n",
    "Sets follow a similar pattern to dictionaries in many other languages, allowing you to manage sets via `add()`, `delete()`, and `clear()` methods."
   ]
  },
  {
   "cell_type": "code",
   "execution_count": null,
   "metadata": {},
   "outputs": [],
   "source": [
    "s.add('d');\n",
    "s.delete('a');\n",
    "\n",
    "console.log(s);"
   ]
  },
  {
   "cell_type": "code",
   "execution_count": null,
   "metadata": {},
   "outputs": [],
   "source": [
    "s.clear();\n",
    "console.log(s);"
   ]
  },
  {
   "cell_type": "code",
   "execution_count": null,
   "metadata": {},
   "outputs": [],
   "source": [
    "var s1 = new Set(a);\n",
    "console.log(s1);"
   ]
  },
  {
   "cell_type": "markdown",
   "metadata": {},
   "source": [
    "## Iterating\n",
    "\n",
    "Working with sets is similar to any other object that is capable of iteration.\n",
    "\n",
    "To start, you can obtain an iterator of the items in a set via the `values()` method:"
   ]
  },
  {
   "cell_type": "code",
   "execution_count": null,
   "metadata": {},
   "outputs": [],
   "source": [
    "var v = s1.values();\n",
    "console.log(v);"
   ]
  },
  {
   "cell_type": "code",
   "execution_count": null,
   "metadata": {},
   "outputs": [],
   "source": [
    "console.log(v.next().value);\n",
    "console.log(v.next().value);"
   ]
  },
  {
   "cell_type": "markdown",
   "metadata": {},
   "source": [
    "For a more traditional iteration:"
   ]
  },
  {
   "cell_type": "code",
   "execution_count": null,
   "metadata": {},
   "outputs": [],
   "source": [
    "for(var e of v) {\n",
    "    console.log(e);\n",
    "}"
   ]
  },
  {
   "cell_type": "markdown",
   "metadata": {},
   "source": [
    "Notice that a `for... of` iteration after calling `next()` will only show the remaining items in the iterator.\n",
    "\n",
    "You can also use the `entries()` method to iterate."
   ]
  },
  {
   "cell_type": "code",
   "execution_count": null,
   "metadata": {},
   "outputs": [],
   "source": [
    "var iter = s1.entries();\n",
    "for(var e of iter) {\n",
    "    console.log(e);\n",
    "}"
   ]
  },
  {
   "cell_type": "markdown",
   "metadata": {},
   "source": [
    "> Notice how each value is presented as a key/value array, but they are both the same. This is because sets do not have keys, but the design implementation for the API was constructed to align with the `Map` object.\n",
    "\n",
    "There is also a `forEach()` method on sets that allows you to execute a callback function per iteration."
   ]
  },
  {
   "cell_type": "code",
   "execution_count": null,
   "metadata": {},
   "outputs": [],
   "source": [
    "function logMe(val, key) {\n",
    "    console.log(val);\n",
    "}\n",
    "\n",
    "s1.forEach(logMe);"
   ]
  },
  {
   "cell_type": "markdown",
   "metadata": {},
   "source": [
    "Sets work well with arrays when needed to make things unique."
   ]
  },
  {
   "cell_type": "code",
   "execution_count": null,
   "metadata": {},
   "outputs": [],
   "source": [
    "var a = ['a', 'b', 'b', 'b', 'c'];\n",
    "var unique = [...new Set(a)];\n",
    "console.log(unique);"
   ]
  },
  {
   "cell_type": "code",
   "execution_count": null,
   "metadata": {},
   "outputs": [],
   "source": []
  }
 ],
 "metadata": {
  "kernelspec": {
   "display_name": "Javascript (Node.js)",
   "language": "javascript",
   "name": "javascript"
  },
  "language_info": {
   "file_extension": ".js",
   "mimetype": "application/javascript",
   "name": "javascript",
   "version": "10.6.0"
  }
 },
 "nbformat": 4,
 "nbformat_minor": 2
}
