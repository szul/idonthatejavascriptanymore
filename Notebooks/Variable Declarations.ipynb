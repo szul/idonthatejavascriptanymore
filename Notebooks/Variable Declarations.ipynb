{
 "cells": [
  {
   "cell_type": "markdown",
   "metadata": {},
   "source": [
    "# `var` has a funky scope"
   ]
  },
  {
   "cell_type": "markdown",
   "metadata": {},
   "source": [
    "In JavaScript, the `var` keyword is scoped to the function level, regardless of where is declared."
   ]
  },
  {
   "cell_type": "code",
   "execution_count": 2,
   "metadata": {},
   "outputs": [
    {
     "name": "stdout",
     "output_type": "stream",
     "text": [
      "Hello, World!\n"
     ]
    }
   ],
   "source": [
    "function hello(arg) {\n",
    "    if(arg === \"hello\") {\n",
    "        var msg = \"Hello, World!\"\n",
    "    }\n",
    "    else {\n",
    "        var msg = \"What's up?\"\n",
    "    }\n",
    "    return msg;\n",
    "}\n",
    "\n",
    "var message = hello(\"hello\");\n",
    "console.log(message);"
   ]
  },
  {
   "cell_type": "markdown",
   "metadata": {},
   "source": [
    "Notice how the logged message is the variable from the `if` conditional, even though we didn't declare it outside of that block. Let's look at a variation."
   ]
  },
  {
   "cell_type": "code",
   "execution_count": 3,
   "metadata": {},
   "outputs": [
    {
     "name": "stdout",
     "output_type": "stream",
     "text": [
      "Hello, World!\n"
     ]
    }
   ],
   "source": [
    "function hello(arg) {\n",
    "    if(arg === \"hello\") {\n",
    "        var msg = \"Hello, World!\"\n",
    "    }\n",
    "    return msg;\n",
    "}\n",
    "\n",
    "var message = hello(\"hello\");\n",
    "console.log(message);"
   ]
  },
  {
   "cell_type": "markdown",
   "metadata": {},
   "source": [
    "Now let's pass in a different string."
   ]
  },
  {
   "cell_type": "code",
   "execution_count": 4,
   "metadata": {},
   "outputs": [
    {
     "name": "stdout",
     "output_type": "stream",
     "text": [
      "undefined\n"
     ]
    }
   ],
   "source": [
    "function hello(arg) {\n",
    "    if(arg === \"hello\") {\n",
    "        var msg = \"Hello, World!\"\n",
    "    }\n",
    "    return msg;\n",
    "}\n",
    "\n",
    "var message = hello(\"world\");\n",
    "console.log(message);"
   ]
  },
  {
   "cell_type": "markdown",
   "metadata": {},
   "source": [
    "...and let's try it another way."
   ]
  },
  {
   "cell_type": "code",
   "execution_count": 7,
   "metadata": {},
   "outputs": [
    {
     "name": "stdout",
     "output_type": "stream",
     "text": [
      "Hello, World!\n"
     ]
    }
   ],
   "source": [
    "function hello(arg) {\n",
    "    var msg = \"world\";\n",
    "    if(arg === \"hello\") {\n",
    "        var msg = \"Hello, World!\"\n",
    "    }\n",
    "    return msg;\n",
    "}\n",
    "\n",
    "var message = hello(\"hello\");\n",
    "console.log(message);"
   ]
  },
  {
   "cell_type": "markdown",
   "metadata": {},
   "source": [
    "So we can declare the `msg` variable in many different ways without getting an error in JavaScript, but we could run into trouble because of the function level scope. This scoping is known as _hoisting_ because the declarations are elevated and processed before code. The following is strangely valid."
   ]
  },
  {
   "cell_type": "code",
   "execution_count": 8,
   "metadata": {},
   "outputs": [
    {
     "name": "stdout",
     "output_type": "stream",
     "text": [
      "Hello, World\n"
     ]
    }
   ],
   "source": [
    "function hello() {\n",
    "    msg = \"Hello, World\";\n",
    "    var msg;\n",
    "    return msg;\n",
    "}\n",
    "console.log(hello());"
   ]
  },
  {
   "cell_type": "markdown",
   "metadata": {},
   "source": [
    "The redeclaration does not nullify the `msg` variable, or make it undefined. In fact, it is also not global, since the `var` is processed first, and applies the scope to the function level."
   ]
  },
  {
   "cell_type": "code",
   "execution_count": null,
   "metadata": {},
   "outputs": [],
   "source": []
  }
 ],
 "metadata": {
  "kernelspec": {
   "display_name": "Javascript (Node.js)",
   "language": "javascript",
   "name": "javascript"
  },
  "language_info": {
   "file_extension": ".js",
   "mimetype": "application/javascript",
   "name": "javascript",
   "version": "10.6.0"
  }
 },
 "nbformat": 4,
 "nbformat_minor": 2
}
