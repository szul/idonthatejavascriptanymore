{
 "cells": [
  {
   "cell_type": "markdown",
   "metadata": {},
   "source": [
    "# `var` has a funky scope"
   ]
  },
  {
   "cell_type": "markdown",
   "metadata": {},
   "source": [
    "In JavaScript, the `var` keyword is scoped to the function level, regardless of where is declared."
   ]
  },
  {
   "cell_type": "code",
   "execution_count": null,
   "metadata": {},
   "outputs": [],
   "source": [
    "function hello(arg) {\n",
    "    if(arg === \"hello\") {\n",
    "        var msg = \"Hello, World!\"\n",
    "    }\n",
    "    else {\n",
    "        var msg = \"What's up?\"\n",
    "    }\n",
    "    return msg;\n",
    "}\n",
    "\n",
    "var message = hello(\"hello\");\n",
    "console.log(message);"
   ]
  },
  {
   "cell_type": "markdown",
   "metadata": {},
   "source": [
    "Notice how the logged message is the variable from the `if` conditional, even though we didn't declare it outside of that block. Let's look at a variation."
   ]
  },
  {
   "cell_type": "code",
   "execution_count": null,
   "metadata": {},
   "outputs": [],
   "source": [
    "function hello(arg) {\n",
    "    if(arg === \"hello\") {\n",
    "        var msg = \"Hello, World!\"\n",
    "    }\n",
    "    return msg;\n",
    "}\n",
    "\n",
    "var message = hello(\"hello\");\n",
    "console.log(message);"
   ]
  },
  {
   "cell_type": "markdown",
   "metadata": {},
   "source": [
    "Now let's pass in a different string."
   ]
  },
  {
   "cell_type": "code",
   "execution_count": null,
   "metadata": {},
   "outputs": [],
   "source": [
    "function hello(arg) {\n",
    "    if(arg === \"hello\") {\n",
    "        var msg = \"Hello, World!\"\n",
    "    }\n",
    "    return msg;\n",
    "}\n",
    "\n",
    "var message = hello(\"world\");\n",
    "console.log(message);"
   ]
  },
  {
   "cell_type": "markdown",
   "metadata": {},
   "source": [
    "...and let's try it another way."
   ]
  },
  {
   "cell_type": "code",
   "execution_count": null,
   "metadata": {},
   "outputs": [],
   "source": [
    "function hello(arg) {\n",
    "    var msg = \"world\";\n",
    "    if(arg === \"hello\") {\n",
    "        var msg = \"Hello, World!\"\n",
    "    }\n",
    "    return msg;\n",
    "}\n",
    "\n",
    "var message = hello(\"hello\");\n",
    "console.log(message);"
   ]
  },
  {
   "cell_type": "markdown",
   "metadata": {},
   "source": [
    "So we can declare the `msg` variable in many different ways without getting an error in JavaScript, but we could run into trouble because of the function level scope. This scoping is known as _hoisting_ because the declarations are elevated and processed before code. The following is strangely valid."
   ]
  },
  {
   "cell_type": "code",
   "execution_count": null,
   "metadata": {},
   "outputs": [],
   "source": [
    "function hello() {\n",
    "    msg = \"Hello, World\";\n",
    "    var msg;\n",
    "    return msg;\n",
    "}\n",
    "console.log(hello());"
   ]
  },
  {
   "cell_type": "markdown",
   "metadata": {},
   "source": [
    "The redeclaration does not nullify the `msg` variable, or make it undefined. In fact, it is also not global, since the `var` is processed first, and applies the scope to the function level."
   ]
  },
  {
   "cell_type": "markdown",
   "metadata": {},
   "source": [
    "# Use `let`"
   ]
  },
  {
   "cell_type": "markdown",
   "metadata": {},
   "source": [
    "ES6 has introduced two new variable declaration keywords: `let` and `const`. For appropriate scoping, use the `let` keyword. Scope will remain at the conditional level.\n",
    "\n",
    "> It is recommended that you try to use `let` rather than `var` for variable declarations."
   ]
  },
  {
   "cell_type": "code",
   "execution_count": null,
   "metadata": {},
   "outputs": [],
   "source": [
    "function hello(arg) {\n",
    "    if(arg === \"hello\") {\n",
    "        let msg = \"Hello, World!\"\n",
    "    }\n",
    "    else {\n",
    "        let msg = \"What's up?\"\n",
    "    }\n",
    "    return msg;\n",
    "}\n",
    "\n",
    "var message = hello(\"hello\");\n",
    "console.log(message);"
   ]
  },
  {
   "cell_type": "markdown",
   "metadata": {},
   "source": [
    "The `msg` variable is no longer in scope when it is returned. It has a different scope in the `if` conditional than it does in the `else` clause."
   ]
  },
  {
   "cell_type": "markdown",
   "metadata": {},
   "source": [
    "# Constant err... variables"
   ]
  },
  {
   "cell_type": "markdown",
   "metadata": {},
   "source": [
    "It is recommended that you never use a global variable, and that you avoid the use of `var`. For variables that are likely to change values, use the `let` keyword. For variables whose values will remain constant, use the `const` keyword."
   ]
  },
  {
   "cell_type": "code",
   "execution_count": null,
   "metadata": {},
   "outputs": [],
   "source": [
    "function hello(arg) {\n",
    "    const msg = \"Hello, World\"\n",
    "    if(arg === \"hello\") {\n",
    "        msg = \"Hello!\"\n",
    "    }\n",
    "    return msg;\n",
    "}\n",
    "\n",
    "var message = hello(\"hello\");\n",
    "console.log(message);"
   ]
  },
  {
   "cell_type": "markdown",
   "metadata": {},
   "source": [
    "A `const` declaration must have a value."
   ]
  },
  {
   "cell_type": "code",
   "execution_count": null,
   "metadata": {},
   "outputs": [],
   "source": [
    "function hello(arg) {\n",
    "    const msg;\n",
    "    if(arg === \"hello\") {\n",
    "        msg = \"Hello!\"\n",
    "    }\n",
    "    return msg;\n",
    "}\n",
    "\n",
    "var message = hello(\"hello\");\n",
    "console.log(message);"
   ]
  },
  {
   "cell_type": "code",
   "execution_count": null,
   "metadata": {},
   "outputs": [],
   "source": [
    "function hello(arg) {\n",
    "    let msg;\n",
    "    if(arg === \"hello\") {\n",
    "        msg = \"Hello!\"\n",
    "    }\n",
    "    return msg;\n",
    "}\n",
    "\n",
    "var message = hello(\"hello\");\n",
    "console.log(message);"
   ]
  },
  {
   "cell_type": "markdown",
   "metadata": {},
   "source": [
    "## Let's change that `message` to a `const` variable declaration"
   ]
  },
  {
   "cell_type": "markdown",
   "metadata": {},
   "source": [
    "Since `message` isn't changed, we can just declare it as a `const`"
   ]
  },
  {
   "cell_type": "code",
   "execution_count": null,
   "metadata": {},
   "outputs": [],
   "source": [
    "function hello(arg) {\n",
    "    let msg;\n",
    "    if(arg === \"hello\") {\n",
    "        msg = \"Hello!\"\n",
    "    }\n",
    "    return msg;\n",
    "}\n",
    "\n",
    "const message = hello(\"hello\");\n",
    "console.log(message);"
   ]
  },
  {
   "cell_type": "markdown",
   "metadata": {},
   "source": [
    "Oh noes! What went wrong?\n",
    "\n",
    "Remember that Jupyter Notebooks run in a single context, so all of the code on this page exists as if it were in one file. This means we've actually been rewriting the `hello()` function over and over, but it also means that ever declaration of `message` is a redeclaration. For `var` this doesn't throw an error, but for `const` and `let` this will."
   ]
  },
  {
   "cell_type": "markdown",
   "metadata": {},
   "source": [
    "# One last point about `const`"
   ]
  },
  {
   "cell_type": "code",
   "execution_count": null,
   "metadata": {},
   "outputs": [],
   "source": [
    "const str = \"Hello\";\n",
    "str = `${str}, World!`;\n",
    "console.log(str);"
   ]
  },
  {
   "cell_type": "code",
   "execution_count": 3,
   "metadata": {},
   "outputs": [
    {
     "ename": "SyntaxError",
     "evalue": "Identifier 'arr' has already been declared",
     "output_type": "error",
     "traceback": [
      "evalmachine.<anonymous>:1",
      "const arr = [];",
      "^",
      "",
      "SyntaxError: Identifier 'arr' has already been declared",
      "    at evalmachine.<anonymous>:1:1",
      "    at Script.runInThisContext (vm.js:91:20)",
      "    at Object.runInThisContext (vm.js:298:38)",
      "    at run ([eval]:1002:15)",
      "    at onRunRequest ([eval]:829:18)",
      "    at onMessage ([eval]:789:13)",
      "    at process.emit (events.js:182:13)",
      "    at emit (internal/child_process.js:811:12)",
      "    at process._tickCallback (internal/process/next_tick.js:63:19)"
     ]
    }
   ],
   "source": [
    "const arr = [];\n",
    "arr.push(\"Hello\");\n",
    "arr.push(\"World\");\n",
    "const result = arr.join(\", \");\n",
    "console.log(result);"
   ]
  },
  {
   "cell_type": "code",
   "execution_count": 4,
   "metadata": {},
   "outputs": [
    {
     "name": "stdout",
     "output_type": "stream",
     "text": [
      "Hello, World!\n"
     ]
    }
   ],
   "source": [
    "const obj = {};\n",
    "obj.label = \"Hello, World!\";\n",
    "console.log(obj.label);"
   ]
  },
  {
   "cell_type": "markdown",
   "metadata": {},
   "source": [
    "### A variable declared with `const` is a constant, but that does not make it immutable\n",
    "\n",
    "Arrays and objects can still be altered."
   ]
  },
  {
   "cell_type": "markdown",
   "metadata": {},
   "source": [
    "# IJavaScript Notebook Quirks\n",
    "\n",
    "If you rerun cells that have `let` or `const` variables outside of a function, you will get an error the second time around. This is because IJavaScript is a JavaScript kernel, and variables in the global scope will remain declared in that scope until the kernel restarts. To avoid this, be sure to wrap your work inside of functions."
   ]
  },
  {
   "cell_type": "code",
   "execution_count": 6,
   "metadata": {},
   "outputs": [
    {
     "name": "stdout",
     "output_type": "stream",
     "text": [
      "Hello, World\n"
     ]
    }
   ],
   "source": [
    "function wrappedArray() {\n",
    "    const arr = [];\n",
    "    arr.push(\"Hello\");\n",
    "    arr.push(\"World\");\n",
    "    const result = arr.join(\", \");\n",
    "    console.log(result);\n",
    "}\n",
    "\n",
    "wrappedArray();"
   ]
  },
  {
   "cell_type": "code",
   "execution_count": null,
   "metadata": {},
   "outputs": [],
   "source": []
  }
 ],
 "metadata": {
  "kernelspec": {
   "display_name": "Javascript (Node.js)",
   "language": "javascript",
   "name": "javascript"
  },
  "language_info": {
   "file_extension": ".js",
   "mimetype": "application/javascript",
   "name": "javascript",
   "version": "10.6.0"
  }
 },
 "nbformat": 4,
 "nbformat_minor": 2
}
